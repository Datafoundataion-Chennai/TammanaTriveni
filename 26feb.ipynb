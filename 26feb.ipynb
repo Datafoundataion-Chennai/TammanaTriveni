{
 "cells": [
  {
   "cell_type": "markdown",
   "id": "a3994219-4b50-40c4-98e4-cd2dfc981827",
   "metadata": {},
   "source": [
    "## Type casting"
   ]
  },
  {
   "cell_type": "code",
   "execution_count": 2,
   "id": "03296cc1-a88c-44c8-a699-701139e4ff21",
   "metadata": {},
   "outputs": [
    {
     "name": "stdin",
     "output_type": "stream",
     "text": [
      "Enter a number: 3\n"
     ]
    },
    {
     "name": "stdout",
     "output_type": "stream",
     "text": [
      "<class 'float'> <class 'str'>\n",
      "False\n"
     ]
    }
   ],
   "source": [
    "i=float(input(\"Enter a number:\"))\n",
    "j=str(i)\n",
    "b=bool(0)\n",
    "print(type(i),type(j))\n",
    "print(b)"
   ]
  },
  {
   "cell_type": "markdown",
   "id": "f3bbfb1e-6572-496a-af29-219a753534c5",
   "metadata": {},
   "source": [
    "## list ---> set ---> tuple"
   ]
  },
  {
   "cell_type": "code",
   "execution_count": 5,
   "id": "88ab0b41-2c03-4067-928e-d602b24f3788",
   "metadata": {},
   "outputs": [
    {
     "name": "stdout",
     "output_type": "stream",
     "text": [
      "{'name': 'arul', 'age': 34, 'location': 'chennai'}\n"
     ]
    }
   ],
   "source": [
    "di = dict([(\"name\",\"arul\"), (\"age\", 34), (\"location\",\"chennai\") ])\n",
    "print(di)"
   ]
  },
  {
   "cell_type": "code",
   "execution_count": 6,
   "id": "ba0d0fd5-be7b-4e59-aa7e-56f28f8db4d9",
   "metadata": {},
   "outputs": [
    {
     "name": "stdout",
     "output_type": "stream",
     "text": [
      "{'name': 'arul', 'age': 34, 'location': 'chennai', 'tech': {'frontend': ['react', 'angular', 'net']}}\n"
     ]
    }
   ],
   "source": [
    "di = dict([(\"name\",\"arul\"), (\"age\", 34), (\"location\",\"chennai\") , (\"tech\" , {\"frontend\" :[\"react\",\"angular\",\"net\"]})])\n",
    "print(di)"
   ]
  },
  {
   "cell_type": "markdown",
   "id": "b9cedc48-6944-4129-b464-3efe2c64c6f8",
   "metadata": {},
   "source": [
    "## round abs min max "
   ]
  },
  {
   "cell_type": "code",
   "execution_count": 7,
   "id": "98a7266b-6a78-4912-a409-9fcc0a958832",
   "metadata": {},
   "outputs": [
    {
     "name": "stdout",
     "output_type": "stream",
     "text": [
      "-4.12\n"
     ]
    }
   ],
   "source": [
    "a=-4.1234\n",
    "print(round(a,2))"
   ]
  },
  {
   "cell_type": "code",
   "execution_count": 8,
   "id": "7b6843a4-1785-44e2-b3f5-e17dca410e0e",
   "metadata": {},
   "outputs": [
    {
     "name": "stdout",
     "output_type": "stream",
     "text": [
      "4\n"
     ]
    }
   ],
   "source": [
    "a=4\n",
    "print(abs(a))"
   ]
  },
  {
   "cell_type": "code",
   "execution_count": 9,
   "id": "2fa4493b-9fc6-4d5d-903e-d93e5303804b",
   "metadata": {},
   "outputs": [
    {
     "name": "stdout",
     "output_type": "stream",
     "text": [
      "67\n",
      "5\n"
     ]
    }
   ],
   "source": [
    "print(max(1,5,67))\n",
    "print(min(5,6,71))"
   ]
  },
  {
   "cell_type": "markdown",
   "id": "8a347729-daf4-4932-a866-ea101248988c",
   "metadata": {},
   "source": [
    "## math"
   ]
  },
  {
   "cell_type": "code",
   "execution_count": 10,
   "id": "f326d021-7b07-4b79-9e91-76b4a7c2ae07",
   "metadata": {},
   "outputs": [
    {
     "name": "stdout",
     "output_type": "stream",
     "text": [
      "4.0\n"
     ]
    }
   ],
   "source": [
    "import math\n",
    "print(math.sqrt(16))"
   ]
  },
  {
   "cell_type": "markdown",
   "id": "cc5da59f-1d95-4b06-bd93-b3d41659912c",
   "metadata": {},
   "source": [
    "## datetime"
   ]
  },
  {
   "cell_type": "code",
   "execution_count": 11,
   "id": "6b6ff57e-1f66-4d7c-8b58-8343c6de0bac",
   "metadata": {},
   "outputs": [
    {
     "name": "stdout",
     "output_type": "stream",
     "text": [
      "2025-02-26 09:51:24.471531\n"
     ]
    }
   ],
   "source": [
    "import datetime\n",
    "print(datetime.datetime.now())"
   ]
  },
  {
   "cell_type": "code",
   "execution_count": 12,
   "id": "f3c5a455-b936-4601-9404-53fb09decce2",
   "metadata": {},
   "outputs": [
    {
     "name": "stdout",
     "output_type": "stream",
     "text": [
      "2025-02-12 15:16:15\n"
     ]
    }
   ],
   "source": [
    "import datetime\n",
    "print(datetime.datetime(2025,2,12,15,16,15))"
   ]
  },
  {
   "cell_type": "code",
   "execution_count": 16,
   "id": "0528bfee-006a-47e6-a71c-7377da34ab4c",
   "metadata": {},
   "outputs": [
    {
     "name": "stdout",
     "output_type": "stream",
     "text": [
      "2025\n",
      "2\n",
      "12\n"
     ]
    }
   ],
   "source": [
    "import datetime\n",
    "x=(datetime.datetime(2025,2,12,15,16,15))\n",
    "print(x.year)\n",
    "print(x.month)\n",
    "print(x.day)"
   ]
  },
  {
   "cell_type": "code",
   "execution_count": 21,
   "id": "96aab4fe-42c0-4db8-9e83-066a7b35a3ba",
   "metadata": {},
   "outputs": [
    {
     "name": "stdout",
     "output_type": "stream",
     "text": [
      "12-02-2025   15 :16 :15\n"
     ]
    }
   ],
   "source": [
    "#formatting date , month , year\n",
    "#strftime\n",
    "date=x.strftime(\"%d-%m-%Y   %H :%M :%S\"  )\n",
    "print(date)"
   ]
  },
  {
   "cell_type": "code",
   "execution_count": 28,
   "id": "6dbaa068-d388-4bb6-a87f-1f5a70e2ef0d",
   "metadata": {},
   "outputs": [
    {
     "name": "stdout",
     "output_type": "stream",
     "text": [
      "2025-03-08 10:02:13.573524\n"
     ]
    }
   ],
   "source": [
    "# suppose you know today is feb 26 after 5 days what will be the day,then use timedelta\n",
    "import datetime\n",
    "x=(datetime.datetime(2025,2,12,15,16,15))\n",
    "y=datetime.datetime.now()\n",
    "a = datetime.timedelta(days=10) #days is default\n",
    "print(y+a)"
   ]
  },
  {
   "cell_type": "markdown",
   "id": "8dfa42e1-1708-4a7b-b8e9-e7cdda8f7261",
   "metadata": {},
   "source": [
    "## Functions"
   ]
  },
  {
   "cell_type": "code",
   "execution_count": 26,
   "id": "26403b00-225d-4399-b235-c9ca48688e02",
   "metadata": {},
   "outputs": [
    {
     "name": "stdin",
     "output_type": "stream",
     "text": [
      "ENter no: 5\n"
     ]
    },
    {
     "name": "stdout",
     "output_type": "stream",
     "text": [
      "ODD\n"
     ]
    },
    {
     "name": "stdin",
     "output_type": "stream",
     "text": [
      "ENter no: 1\n"
     ]
    },
    {
     "name": "stdout",
     "output_type": "stream",
     "text": [
      "ODD\n"
     ]
    },
    {
     "name": "stdin",
     "output_type": "stream",
     "text": [
      "ENter no: 56y\n"
     ]
    },
    {
     "ename": "ValueError",
     "evalue": "invalid literal for int() with base 10: '56y'",
     "output_type": "error",
     "traceback": [
      "\u001b[1;31m---------------------------------------------------------------------------\u001b[0m",
      "\u001b[1;31mValueError\u001b[0m                                Traceback (most recent call last)",
      "Cell \u001b[1;32mIn[26], line 2\u001b[0m\n\u001b[0;32m      1\u001b[0m \u001b[38;5;28;01mwhile\u001b[39;00m \u001b[38;5;28;01mTrue\u001b[39;00m:\n\u001b[1;32m----> 2\u001b[0m     i \u001b[38;5;241m=\u001b[39m \u001b[38;5;28mint\u001b[39m(\u001b[38;5;28minput\u001b[39m(\u001b[38;5;124m\"\u001b[39m\u001b[38;5;124mENter no:\u001b[39m\u001b[38;5;124m\"\u001b[39m))\n\u001b[0;32m      3\u001b[0m     \u001b[38;5;28;01mif\u001b[39;00m i \u001b[38;5;241m%\u001b[39m \u001b[38;5;241m2\u001b[39m \u001b[38;5;241m==\u001b[39m\u001b[38;5;241m0\u001b[39m:\n\u001b[0;32m      4\u001b[0m         \u001b[38;5;28mprint\u001b[39m(\u001b[38;5;124m\"\u001b[39m\u001b[38;5;124mEVEN\u001b[39m\u001b[38;5;124m\"\u001b[39m)\n",
      "\u001b[1;31mValueError\u001b[0m: invalid literal for int() with base 10: '56y'"
     ]
    }
   ],
   "source": [
    "while True:\n",
    "    i = int(input(\"ENter no:\"))\n",
    "    if i % 2 ==0:\n",
    "        print(\"EVEN\")\n",
    "    else:\n",
    "        print(\"ODD\")"
   ]
  },
  {
   "cell_type": "code",
   "execution_count": 4,
   "id": "19326df3-3af5-4517-b8cd-813607734d7a",
   "metadata": {},
   "outputs": [
    {
     "name": "stdin",
     "output_type": "stream",
     "text": [
      "ENter no: 5\n"
     ]
    },
    {
     "name": "stdout",
     "output_type": "stream",
     "text": [
      "ODD\n"
     ]
    },
    {
     "name": "stdin",
     "output_type": "stream",
     "text": [
      "ENter no: 1\n"
     ]
    },
    {
     "name": "stdout",
     "output_type": "stream",
     "text": [
      "ODD\n"
     ]
    },
    {
     "name": "stdin",
     "output_type": "stream",
     "text": [
      "ENter no: 0\n"
     ]
    }
   ],
   "source": [
    "#use camel case ===> \n",
    "def oddOrEven(k):\n",
    "    if k % 2 ==0:\n",
    "        print(\"EVEN\")\n",
    "    else:\n",
    "        print(\"ODD\")\n",
    "\n",
    "while True:\n",
    "    i = int(input(\"ENter no:\")) #block scope\n",
    "    if i ==0:\n",
    "        break\n",
    "    oddOrEven(i)"
   ]
  },
  {
   "cell_type": "code",
   "execution_count": 14,
   "id": "83a0aacd-ce76-4927-a76e-b7ea2311d625",
   "metadata": {},
   "outputs": [
    {
     "name": "stdout",
     "output_type": "stream",
     "text": [
      "3 apple\n",
      "shipplane 9\n",
      "tammanatriveni 1\n"
     ]
    }
   ],
   "source": [
    "def display(a,b,c): #default arg\n",
    "    print(a+b,c)\n",
    "\n",
    "display(1,2,\"apple\")\n",
    "display(a=\"ship\",b=\"plane\",c=9) #keyword arg\n",
    "display(b=\"triveni\",a=\"tammana\",c =1)"
   ]
  },
  {
   "cell_type": "code",
   "execution_count": 15,
   "id": "f19a4844-ee60-43e2-8151-0f6a22ae4ded",
   "metadata": {},
   "outputs": [
    {
     "name": "stdout",
     "output_type": "stream",
     "text": [
      "6\n"
     ]
    }
   ],
   "source": [
    "def add_numbers(*nums): #arbitary arg\n",
    "    sum=0\n",
    "    for i in nums:\n",
    "        sum+=i\n",
    "    print(sum)\n",
    "\n",
    "add_numbers(1,2,3)"
   ]
  },
  {
   "cell_type": "code",
   "execution_count": 16,
   "id": "da0b826a-a1ea-468d-99b0-fd10c94eb253",
   "metadata": {},
   "outputs": [
    {
     "name": "stdout",
     "output_type": "stream",
     "text": [
      "name   Triveni\n",
      "age   22\n"
     ]
    }
   ],
   "source": [
    "def print_info(**info):\n",
    "    for i,j in info.items():\n",
    "        print(i, \" \", j)\n",
    "\n",
    "print_info(name=\"Triveni\",age=22)"
   ]
  },
  {
   "cell_type": "markdown",
   "id": "81f009ae-2c3f-4da1-914c-0b079722d2c8",
   "metadata": {},
   "source": [
    "## overloading not possible because we have arbitary arguments"
   ]
  },
  {
   "cell_type": "code",
   "execution_count": 23,
   "id": "09103a25-df9c-41d3-8e90-bd03d22ee199",
   "metadata": {},
   "outputs": [
    {
     "name": "stdout",
     "output_type": "stream",
     "text": [
      "6\n",
      "even\n"
     ]
    }
   ],
   "source": [
    "## return statement used only once nd after that control goes to where it was started\n",
    "def oddOrEven(k):\n",
    "    if k % 2 ==0:\n",
    "       return \"even\"\n",
    "    return \"odd\"\n",
    "\n",
    "\n",
    "def add_numbers(*nums): #arbitary arg\n",
    "    sum=0\n",
    "    for i in nums:\n",
    "        sum+=i\n",
    "    return sum\n",
    "\n",
    "print(add_numbers(1,2,3))\n",
    "a=oddOrEven(add_numbers(1,2,3))\n",
    "print(a)"
   ]
  },
  {
   "cell_type": "code",
   "execution_count": 25,
   "id": "d1a76728-55eb-471d-aa31-b3a37356ddc9",
   "metadata": {},
   "outputs": [
    {
     "name": "stdout",
     "output_type": "stream",
     "text": [
      "even   6\n"
     ]
    }
   ],
   "source": [
    "## return statement used only once nd after that control goes to where it was started\n",
    "def oddOrEven(k):\n",
    "    if k % 2 ==0:\n",
    "       return \"even\",k\n",
    "    return \"odd\",k\n",
    "\n",
    "\n",
    "def add_numbers(*nums): #arbitary arg\n",
    "    sum=0\n",
    "    for i in nums:\n",
    "        sum+=i\n",
    "    return sum\n",
    "\n",
    "a,b=oddOrEven(add_numbers(1,2,3))\n",
    "print(a,\" \",b)"
   ]
  },
  {
   "cell_type": "markdown",
   "id": "69c06d58-8108-4f4d-ad2e-e005a7519871",
   "metadata": {},
   "source": [
    "## return vs Print"
   ]
  },
  {
   "cell_type": "code",
   "execution_count": 30,
   "id": "8877a73e-e84e-46fa-b8b6-39045b30a9c6",
   "metadata": {},
   "outputs": [
    {
     "name": "stdout",
     "output_type": "stream",
     "text": [
      "5\n"
     ]
    }
   ],
   "source": [
    "def doOperation(a,b,c):\n",
    "    def add(a,b):\n",
    "        return a+b\n",
    "    def difference(a,b):\n",
    "        return a-b\n",
    "    if(c ==\"sum\"):\n",
    "        return add(a,b)\n",
    "    else:\n",
    "        return difference(a,b)\n",
    "\n",
    "print(doOperation(2,3,\"sum\"))"
   ]
  },
  {
   "cell_type": "code",
   "execution_count": 32,
   "id": "113ea60d-623f-4b27-8e0c-c911001233ac",
   "metadata": {},
   "outputs": [
    {
     "name": "stdout",
     "output_type": "stream",
     "text": [
      "5\n"
     ]
    }
   ],
   "source": [
    "def doOperation(a,b,c):\n",
    "    def add(a,b):\n",
    "        return a+b\n",
    "    def difference(a,b):\n",
    "        return a-b\n",
    "    if(c ==\"sum\"):\n",
    "        print (add(a,b))\n",
    "    else:\n",
    "        print(difference(a,b))\n",
    "\n",
    "doOperation(2,3,\"sum\")"
   ]
  },
  {
   "cell_type": "markdown",
   "id": "773bf3b0-7e2f-4749-b24d-612a8fc69e29",
   "metadata": {},
   "source": [
    "## Recursive Function"
   ]
  },
  {
   "cell_type": "code",
   "execution_count": 33,
   "id": "45a6094d-1455-46ef-9109-1050ca7fe644",
   "metadata": {},
   "outputs": [],
   "source": [
    "# return statement is end of statement\n",
    "#fun will executed until it is called break"
   ]
  },
  {
   "cell_type": "code",
   "execution_count": 39,
   "id": "83f4b481-20d5-407e-b346-34b4bae57dd8",
   "metadata": {},
   "outputs": [
    {
     "data": {
      "text/plain": [
       "120"
      ]
     },
     "execution_count": 39,
     "metadata": {},
     "output_type": "execute_result"
    }
   ],
   "source": [
    "#factorial\n",
    "def fact(n):\n",
    "    if n==0:\n",
    "        return 1\n",
    "    return n* fact(n-1)  #return 4 * fact(4-1)\n",
    "\n",
    "fact(5)"
   ]
  },
  {
   "cell_type": "code",
   "execution_count": 42,
   "id": "f93ccbf1-5e5b-4392-9f5c-7c11b09504de",
   "metadata": {},
   "outputs": [
    {
     "data": {
      "text/plain": [
       "5"
      ]
     },
     "execution_count": 42,
     "metadata": {},
     "output_type": "execute_result"
    }
   ],
   "source": [
    "#fibonacci\n",
    "def fibo(n):\n",
    "    if n ==0:\n",
    "        return 0\n",
    "    elif n ==1:\n",
    "        return 1\n",
    "    return fibo(n-1)+fibo(n-2)\n",
    "fibo(5)        "
   ]
  },
  {
   "cell_type": "markdown",
   "id": "0b921555-fd96-424d-a876-d29aa72fafa4",
   "metadata": {},
   "source": [
    "## MAP"
   ]
  },
  {
   "cell_type": "code",
   "execution_count": 101,
   "id": "428b9d91-631e-42a7-9204-af13dd57b0d3",
   "metadata": {},
   "outputs": [
    {
     "ename": "TypeError",
     "evalue": "str.upper() takes no arguments (1 given)",
     "output_type": "error",
     "traceback": [
      "\u001b[1;31m---------------------------------------------------------------------------\u001b[0m",
      "\u001b[1;31mTypeError\u001b[0m                                 Traceback (most recent call last)",
      "Cell \u001b[1;32mIn[101], line 2\u001b[0m\n\u001b[0;32m      1\u001b[0m li\u001b[38;5;241m=\u001b[39m[\u001b[38;5;124m\"\u001b[39m\u001b[38;5;124mjava\u001b[39m\u001b[38;5;124m\"\u001b[39m,\u001b[38;5;124m\"\u001b[39m\u001b[38;5;124mpython\u001b[39m\u001b[38;5;124m\"\u001b[39m,\u001b[38;5;124m\"\u001b[39m\u001b[38;5;124msql\u001b[39m\u001b[38;5;124m\"\u001b[39m,\u001b[38;5;124m\"\u001b[39m\u001b[38;5;124mreact\u001b[39m\u001b[38;5;124m\"\u001b[39m]\n\u001b[1;32m----> 2\u001b[0m \u001b[38;5;28mprint\u001b[39m(\u001b[38;5;28mlist\u001b[39m(\u001b[38;5;28mmap\u001b[39m(\u001b[38;5;28mstr\u001b[39m\u001b[38;5;241m.\u001b[39mupper,li)))\n",
      "\u001b[1;31mTypeError\u001b[0m: str.upper() takes no arguments (1 given)"
     ]
    }
   ],
   "source": [
    "li=[\"java\",\"python\",\"sql\",\"react\"]\n",
    "print(list(map(str.upper,li)))"
   ]
  },
  {
   "cell_type": "code",
   "execution_count": 2,
   "id": "a33811aa-5851-43c4-b31b-e247db14043a",
   "metadata": {},
   "outputs": [
    {
     "name": "stdout",
     "output_type": "stream",
     "text": [
      "[<built-in method upper of str object at 0x000002CAAE02F690>, <built-in method upper of str object at 0x000002CAAD9B7CF0>, <built-in method upper of str object at 0x000002CAB1074510>, <built-in method upper of str object at 0x000002CAB35C3030>]\n"
     ]
    }
   ],
   "source": [
    "li=[\"java\",\"python\",\"sql\",\"react\"]\n",
    "print(list(map(lambda x:x.upper,li)))"
   ]
  },
  {
   "cell_type": "markdown",
   "id": "365ed6f9-44c1-427e-8e79-e0417b90b4df",
   "metadata": {},
   "source": [
    "## LAMBDA"
   ]
  },
  {
   "cell_type": "code",
   "execution_count": 52,
   "id": "0fa3e853-0948-4992-bb04-ac791432dd22",
   "metadata": {},
   "outputs": [
    {
     "data": {
      "text/plain": [
       "3"
      ]
     },
     "execution_count": 52,
     "metadata": {},
     "output_type": "execute_result"
    }
   ],
   "source": [
    "def add(a,b):\n",
    "    return a+b\n",
    "add=lambda a,b : a+b\n",
    "add(1,2)"
   ]
  },
  {
   "cell_type": "markdown",
   "id": "bbf8f6b4-9c3b-41d4-974a-4ea2bfcb4c8b",
   "metadata": {},
   "source": [
    "## FILTER"
   ]
  },
  {
   "cell_type": "code",
   "execution_count": 53,
   "id": "3d371dca-0f46-48a0-9aca-e26572fe25d4",
   "metadata": {},
   "outputs": [
    {
     "name": "stdout",
     "output_type": "stream",
     "text": [
      "[2, 4, 6, 8]\n"
     ]
    }
   ],
   "source": [
    "li=[1,2,3,4,5,6,7,8,9]\n",
    "print(list(filter(lambda x : x%2 ==0,li)))"
   ]
  },
  {
   "cell_type": "markdown",
   "id": "5c63faa2-4bb9-4b06-b64f-b44af9e0f240",
   "metadata": {},
   "source": [
    "## 4)Given a sentence as a string, return the count of vowels (a, e, i, o, u).\n",
    "## Input: \"Hello World\"\n",
    "## Output: 3"
   ]
  },
  {
   "cell_type": "code",
   "execution_count": 55,
   "id": "5cd6c7c1-aeab-4f58-be05-a6819a8ddfce",
   "metadata": {},
   "outputs": [
    {
     "name": "stdin",
     "output_type": "stream",
     "text": [
      "enter string: Hello World\n"
     ]
    },
    {
     "name": "stdout",
     "output_type": "stream",
     "text": [
      "3\n"
     ]
    }
   ],
   "source": [
    "str=input(\"enter string:\").lower()\n",
    "vowels=\"aeiou\"\n",
    "count=0\n",
    "for char in str:\n",
    "    if char in vowels:\n",
    "        count+=1\n",
    "    else:\n",
    "        pass\n",
    "print(count)\n"
   ]
  },
  {
   "cell_type": "code",
   "execution_count": 59,
   "id": "0edbf512-24a0-4900-958c-fff8df2fa75d",
   "metadata": {},
   "outputs": [
    {
     "name": "stdin",
     "output_type": "stream",
     "text": [
      "enter string: Elephant\n"
     ]
    },
    {
     "name": "stdout",
     "output_type": "stream",
     "text": [
      "3\n"
     ]
    }
   ],
   "source": [
    "def vowels(str):\n",
    "    vowels=\"aeiou\"\n",
    "    count=0\n",
    "    for char in str:\n",
    "        if char in vowels:\n",
    "            count+=1\n",
    "        else:\n",
    "            pass\n",
    "    return count\n",
    "\n",
    "\n",
    "str=input(\"enter string:\").lower()\n",
    "a=vowels(str)\n",
    "print(a)"
   ]
  },
  {
   "cell_type": "markdown",
   "id": "91502ef4-4436-46cc-ab8c-67f6f19e2b55",
   "metadata": {},
   "source": [
    "## 3)Given a number n, return its multiplication table (1 to 10) as a list of tuples.\n",
    "## Input: 3\n",
    "## Output: [(3, 1, 3), (3, 2, 6), ..., (3, 10, 30)]"
   ]
  },
  {
   "cell_type": "code",
   "execution_count": 77,
   "id": "6b017de2-2d1f-4eb5-9cb0-66f88fddbd12",
   "metadata": {},
   "outputs": [
    {
     "name": "stdin",
     "output_type": "stream",
     "text": [
      " 3\n"
     ]
    },
    {
     "name": "stdout",
     "output_type": "stream",
     "text": [
      "[(3, 1, 3), (3, 2, 6), (3, 3, 9), (3, 4, 12), (3, 5, 15), (3, 6, 18), (3, 7, 21), (3, 8, 24), (3, 9, 27), (3, 10, 30)]\n"
     ]
    }
   ],
   "source": [
    "n=int(input())\n",
    "li=[]\n",
    "for i in range(1,11):\n",
    "    mul=(n,i,n*i)\n",
    "    li.append(mul)\n",
    "print(li)"
   ]
  },
  {
   "cell_type": "markdown",
   "id": "a62d5fdb-42ae-4bd2-a76c-55b240527400",
   "metadata": {},
   "source": [
    "## 2)Given a list of words, filter out the words that have an odd number of characters.\n",
    "## sample input: words = [\"apple\", \"banana\", \"grape\", \"kiwi\", \"mango\", \"strawberry\"] "
   ]
  },
  {
   "cell_type": "code",
   "execution_count": 79,
   "id": "8dd40df6-88df-4b13-9b61-d66e78ff1e3e",
   "metadata": {},
   "outputs": [
    {
     "name": "stdin",
     "output_type": "stream",
     "text": [
      "Enter words: apple,banana,grape\n"
     ]
    },
    {
     "name": "stdout",
     "output_type": "stream",
     "text": [
      "['apple', 'banana', 'grape']\n"
     ]
    }
   ],
   "source": [
    "n=input(\"Enter words:\").split(\",\")\n",
    "print(n)"
   ]
  },
  {
   "cell_type": "code",
   "execution_count": 80,
   "id": "cc2fbcf1-6c52-4d9c-9da3-af1fadbe3aa6",
   "metadata": {},
   "outputs": [
    {
     "name": "stdin",
     "output_type": "stream",
     "text": [
      "Enter words: apple,banana,grape\n"
     ]
    },
    {
     "name": "stdout",
     "output_type": "stream",
     "text": [
      "apple\n",
      "grape\n"
     ]
    }
   ],
   "source": [
    "n=input(\"Enter words:\").split(\",\")\n",
    "for i in n:\n",
    "    if len(i)%2==1:\n",
    "        print(i)"
   ]
  },
  {
   "cell_type": "code",
   "execution_count": 7,
   "id": "ecff9e5a-e8a7-4af1-932f-2e4fed9d12a6",
   "metadata": {},
   "outputs": [],
   "source": [
    "## Using filter"
   ]
  },
  {
   "cell_type": "markdown",
   "id": "1c8143a3-95af-4aba-b5a7-84a4da629c4d",
   "metadata": {},
   "source": []
  },
  {
   "cell_type": "code",
   "execution_count": 5,
   "id": "e04799f5-2cc0-4422-b8c4-e594847e4dcd",
   "metadata": {},
   "outputs": [
    {
     "name": "stdout",
     "output_type": "stream",
     "text": [
      "['apple', 'grape']\n"
     ]
    }
   ],
   "source": [
    "n=[\"apple\",\"banana\",\"grape\",\"kiwi\"]\n",
    "length=list(filter(lambda a:len(a)%2==1,n))\n",
    "print(length)"
   ]
  },
  {
   "cell_type": "markdown",
   "id": "0dababe3-f1a4-479d-a3f6-6865dea049ad",
   "metadata": {},
   "source": [
    "## 1)You have a list of product prices in string format. Convert them into float values using map(), then calculate the total sum.\n",
    "## sample input: prices = [\"12.99\", \"23.50\", \"9.99\", \"45.00\", \"5.75\"]\n"
   ]
  },
  {
   "cell_type": "code",
   "execution_count": 82,
   "id": "fe92c70d-9a18-40f0-a9ee-30c89df277a9",
   "metadata": {},
   "outputs": [
    {
     "name": "stdin",
     "output_type": "stream",
     "text": [
      "Enter values 12.99,23.50,9.99\n"
     ]
    },
    {
     "name": "stdout",
     "output_type": "stream",
     "text": [
      "47.480000000000004\n"
     ]
    }
   ],
   "source": [
    "n=input(\"Enter values\").split(\",\")\n",
    "sum=1\n",
    "for i in n:\n",
    "    a=float(i)\n",
    "    sum+=a\n",
    "print(sum)"
   ]
  },
  {
   "cell_type": "code",
   "execution_count": 83,
   "id": "1ac32ae0-209c-4cfa-be34-1a9d75f1150e",
   "metadata": {},
   "outputs": [
    {
     "name": "stdin",
     "output_type": "stream",
     "text": [
      "Enter values 12.99,23.50,9.99,45.00,5.75\n"
     ]
    },
    {
     "name": "stdout",
     "output_type": "stream",
     "text": [
      "98.23\n"
     ]
    }
   ],
   "source": [
    "n=input(\"Enter values\").split(\",\")\n",
    "sum=1\n",
    "for i in n:\n",
    "    a=float(i)\n",
    "    sum+=i\n",
    "print(sum)"
   ]
  },
  {
   "cell_type": "code",
   "execution_count": 13,
   "id": "6de43321-7a9a-4fab-a976-3428d932e689",
   "metadata": {},
   "outputs": [
    {
     "name": "stdout",
     "output_type": "stream",
     "text": [
      "97.23\n"
     ]
    }
   ],
   "source": [
    "n=[\"12.99\",\"23.50\",\"9.99\",\"45.00\",\"5.75\"]\n",
    "p=list(map(float,n))\n",
    "print(sum(p))"
   ]
  },
  {
   "cell_type": "markdown",
   "id": "875662be-cc90-4002-b680-736e8a78c552",
   "metadata": {},
   "source": [
    "## 1)Given a list of words, group words that are anagrams.\n",
    "## Input: [\"eat\", \"tea\", \"tan\", \"ate\", \"nat\", \"bat\"]\n",
    "## Output: [['eat', 'tea', 'ate'], ['tan', 'nat'], ['bat']]"
   ]
  },
  {
   "cell_type": "code",
   "execution_count": null,
   "id": "8af20cc8-b2f6-41d6-a91d-a1e57599126a",
   "metadata": {},
   "outputs": [],
   "source": [
    "n=[\"eat\", \"tea\", \"tan\", \"ate\", \"nat\", \"bat\"]\n",
    "for i in n:\n",
    "    if i "
   ]
  },
  {
   "cell_type": "code",
   "execution_count": 18,
   "id": "9ef9ce61-db78-4488-ba00-4ea164d24723",
   "metadata": {},
   "outputs": [
    {
     "name": "stdout",
     "output_type": "stream",
     "text": [
      "ana\n"
     ]
    }
   ],
   "source": [
    "a=\"eat\"\n",
    "b=\"ten\"\n",
    "for char in a:\n",
    "    if char in b:\n",
    "        print(\"ana\")\n",
    "        break\n",
    "    else:\n",
    "        print(\"no\")"
   ]
  },
  {
   "cell_type": "markdown",
   "id": "6ebf2616-a296-490b-998b-a23192193cb2",
   "metadata": {},
   "source": [
    "## 2)Given an unsorted list of integers, find the length of the longest consecutive sequence.\n",
    "## Input: [100, 4, 200, 1, 3, 2]\n",
    "## Output: 4  # (because the sequence is 1, 2, 3, 4)"
   ]
  },
  {
   "cell_type": "code",
   "execution_count": 25,
   "id": "1a31f405-dbad-4e75-8ebb-141797d0e3d6",
   "metadata": {},
   "outputs": [
    {
     "name": "stdout",
     "output_type": "stream",
     "text": [
      "{1, 2, 3, 100, 4, 200}\n"
     ]
    }
   ],
   "source": [
    "n=[100,4,200,1,3,2]\n",
    "n=set(n)\n",
    "print(n)"
   ]
  },
  {
   "cell_type": "markdown",
   "id": "af984df2-d694-42ce-a972-36d7a85a31bd",
   "metadata": {},
   "source": [
    "## sequence prob"
   ]
  },
  {
   "cell_type": "code",
   "execution_count": 26,
   "id": "dc3bd972-3cf0-4c90-bfe9-6560c084fa44",
   "metadata": {},
   "outputs": [
    {
     "name": "stdout",
     "output_type": "stream",
     "text": [
      "4\n"
     ]
    }
   ],
   "source": [
    "def arrayList(numbers):\n",
    "    numbers.sort()\n",
    "    count = 0\n",
    "    max = 0\n",
    "    for i in range(len(numbers)-1):\n",
    "        if numbers[i] - numbers[i+1] ==-1:\n",
    "            count +=1\n",
    "        else:\n",
    "            if max<count:\n",
    "                max = count+1\n",
    "            count =0\n",
    "    return max\n",
    "print(arrayList([100, 4, 200, 1, 3, 2]))"
   ]
  },
  {
   "cell_type": "markdown",
   "id": "85326f20-84b1-4795-b901-78600ba2a8f4",
   "metadata": {},
   "source": [
    "## ANAGRAMS"
   ]
  },
  {
   "cell_type": "code",
   "execution_count": 2,
   "id": "6fd01abb-fd97-46b1-8b0e-49889dd2b0d0",
   "metadata": {},
   "outputs": [
    {
     "data": {
      "text/plain": [
       "[['eat', 'tea', 'ate'], ['tan', 'nat'], ['bat']]"
      ]
     },
     "execution_count": 2,
     "metadata": {},
     "output_type": "execute_result"
    }
   ],
   "source": [
    "def group_anagrams(words):\n",
    "    result = []  # Stores grouped anagrams\n",
    "    seen = []  # Tracks unique sorted words\n",
    "\n",
    "    for word in words:\n",
    "        sorted_word = ''.join(sorted(word))  # Sort characters to identify anagrams\n",
    "\n",
    "        if sorted_word in seen:\n",
    "            index = seen.index(sorted_word)  # Find the existing group\n",
    "            #print(index)\n",
    "            result[index].append(word)  # Add to the group\n",
    "        else:\n",
    "            seen.append(sorted_word)  # Track the new anagram type\n",
    "            result.append([word])  # Create a new group\n",
    "\n",
    "    return result\n",
    "words=[\"eat\", \"tea\", \"tan\", \"ate\", \"nat\", \"bat\"]\n",
    "group_anagrams(words)"
   ]
  },
  {
   "cell_type": "code",
   "execution_count": null,
   "id": "023f545a-1520-42d0-9956-9f70dfe4e03c",
   "metadata": {},
   "outputs": [],
   "source": [
    "\"eat\" → Sorted: 'aet' (not in seen)\n",
    "\n",
    "seen = ['aet']\n",
    "result = [['eat']]\n",
    "\"tea\" → Sorted: 'aet' (already in seen at index 0)\n",
    "\n",
    "result = [['eat', 'tea']]\n",
    "\"tan\" → Sorted: 'ant' (not in seen)\n",
    "\n",
    "seen = ['aet', 'ant']\n",
    "result = [['eat', 'tea'], ['tan']]\n",
    "\"ate\" → Sorted: 'aet' (already in seen at index 0)\n",
    "\n",
    "result = [['eat', 'tea', 'ate'], ['tan']]\n",
    "\"nat\" → Sorted: 'ant' (already in seen at index 1)\n",
    "\n",
    "result = [['eat', 'tea', 'ate'], ['tan', 'nat']]\n",
    "\"bat\" → Sorted: 'abt' (not in seen)\n",
    "\n",
    "seen = ['aet', 'ant', 'abt']\n",
    "result = [['eat', 'tea', 'ate'], ['tan', 'nat'], ['bat']]\n",
    "Final Output"
   ]
  },
  {
   "cell_type": "markdown",
   "id": "fdc98f50-8f80-46eb-89fd-0d4586022857",
   "metadata": {},
   "source": [
    "## DIce prob"
   ]
  },
  {
   "cell_type": "code",
   "execution_count": 4,
   "id": "7bf9e807-5347-4d7c-b0cf-3a242992b79b",
   "metadata": {},
   "outputs": [
    {
     "name": "stdout",
     "output_type": "stream",
     "text": [
      "list is\n",
      "[(1, 1), (1, 2), (1, 3), (1, 4), (1, 5), (1, 6), (2, 1), (2, 2), (2, 3), (2, 4), (2, 5), (2, 6), (3, 1), (3, 2), (3, 3), (3, 4), (3, 5), (3, 6), (4, 1), (4, 2), (4, 3), (4, 4), (4, 5), (4, 6), (5, 1), (5, 2), (5, 3), (5, 4), (5, 5), (5, 6), (6, 1), (6, 2), (6, 3), (6, 4), (6, 5), (6, 6)]\n",
      "length 36\n",
      "keyvalues\n",
      "{2: [(1, 1)], 3: [(1, 2), (2, 1)], 4: [(1, 3), (2, 2), (3, 1)], 5: [(1, 4), (2, 3), (3, 2), (4, 1)], 6: [(1, 5), (2, 4), (3, 3), (4, 2), (5, 1)], 7: [(1, 6), (2, 5), (3, 4), (4, 3), (5, 2), (6, 1)], 8: [(2, 6), (3, 5), (4, 4), (5, 3), (6, 2)], 9: [(3, 6), (4, 5), (5, 4), (6, 3)], 10: [(4, 6), (5, 5), (6, 4)], 11: [(5, 6), (6, 5)], 12: [(6, 6)]}\n",
      "\n",
      "\n",
      "Probabilities are\n",
      "{2: 2.7777777777777777, 3: 5.555555555555555, 4: 8.333333333333332, 5: 11.11111111111111, 6: 13.88888888888889, 7: 16.666666666666664, 8: 13.88888888888889, 9: 11.11111111111111, 10: 8.333333333333332, 11: 5.555555555555555, 12: 2.7777777777777777}\n"
     ]
    }
   ],
   "source": [
    "d1=[1,2,3,4,5,6]\n",
    "d2=[1,2,3,4,5,6]\n",
    "li=[]\n",
    "for i in d1:\n",
    "    for j in d2:\n",
    "        li.append((i,j))\n",
    "print(\"list is\")\n",
    "print(li)\n",
    "\n",
    "\n",
    "n=len(li)\n",
    "print(\"length\",n)\n",
    "di={}\n",
    "for i in li:\n",
    "    s=sum(i)\n",
    "    if s in di:\n",
    "        di[s].append(i)\n",
    "    else:\n",
    "        di[s]=[i];\n",
    "        \n",
    "print(\"keyvalues\")\n",
    "print(di)\n",
    "\n",
    "for i,j in di.items(): #finding length nd probabality (no.of outcomes/total prob)\n",
    "    di[i] = len(j)/n*100\n",
    "\n",
    "print(\"\\n\")\n",
    "print(\"Probabilities are\")\n",
    "print(di)"
   ]
  },
  {
   "cell_type": "code",
   "execution_count": 34,
   "id": "c9fbe5f9-b583-4bd3-b558-0c50dcfcb638",
   "metadata": {},
   "outputs": [
    {
     "name": "stdout",
     "output_type": "stream",
     "text": [
      "list is\n",
      "[(1, 1), (1, 2), (1, 3), (1, 4), (1, 5), (1, 6), (2, 1), (2, 2), (2, 3), (2, 4), (2, 5), (2, 6), (3, 1), (3, 2), (3, 3), (3, 4), (3, 5), (3, 6), (4, 1), (4, 2), (4, 3), (4, 4), (4, 5), (4, 6), (5, 1), (5, 2), (5, 3), (5, 4), (5, 5), (5, 6), (6, 1), (6, 2), (6, 3), (6, 4), (6, 5), (6, 6)]\n"
     ]
    },
    {
     "ename": "TypeError",
     "evalue": "'int' object is not callable",
     "output_type": "error",
     "traceback": [
      "\u001b[1;31m---------------------------------------------------------------------------\u001b[0m",
      "\u001b[1;31mTypeError\u001b[0m                                 Traceback (most recent call last)",
      "Cell \u001b[1;32mIn[34], line 17\u001b[0m\n\u001b[0;32m     15\u001b[0m di\u001b[38;5;241m=\u001b[39m{}\n\u001b[0;32m     16\u001b[0m \u001b[38;5;28;01mfor\u001b[39;00m i \u001b[38;5;129;01min\u001b[39;00m li:\n\u001b[1;32m---> 17\u001b[0m     s\u001b[38;5;241m=\u001b[39m\u001b[38;5;28msum\u001b[39m(i)\n\u001b[0;32m     18\u001b[0m     \u001b[38;5;28;01mif\u001b[39;00m s \u001b[38;5;129;01min\u001b[39;00m di:\n\u001b[0;32m     19\u001b[0m         di[s]\u001b[38;5;241m.\u001b[39mappend(i)\n",
      "\u001b[1;31mTypeError\u001b[0m: 'int' object is not callable"
     ]
    }
   ],
   "source": [
    "d1=[1,2,3,4,5,6]\n",
    "d2=[1,2,3,4,5,6]\n",
    "R=5\n",
    "o=[ [(1,3),(4,5)],[(2,3),(4,5)], [(1,6),(2,2)], [(3,4,(5,1))], [(6,6),(1,1)] ]\n",
    "score ={'player1':0 , 'player2':0}\n",
    "li=[]\n",
    "for i in d1:\n",
    "    for j in d2:\n",
    "        li.append((i,j))\n",
    "print(\"list is\")\n",
    "print(li)\n",
    "\n",
    "\n",
    "n=len(li)\n",
    "di={}\n",
    "for i in li:\n",
    "    s=sum(i)\n",
    "    if s in di:\n",
    "        di[s].append(i)\n",
    "    else:\n",
    "        di[s]=[i];\n",
    "        \n",
    "print(\"keyvalues\")\n",
    "print(di)\n",
    "\n",
    "for i,j in di.items(): #finding length nd probabality (no.of outcomes/total prob)\n",
    "    di[i] = len(j)/n*100\n",
    "\n",
    "print(\"\\n\")\n",
    "print(\"Probabilities are\")\n",
    "print(di)\n",
    "\n",
    "\n",
    "\n",
    "print(\"\\n\")\n",
    "print(\"dict\")\n",
    "\n",
    "for k in o:\n",
    "    tuple1=sum(k[0])\n",
    "    tuple2=sum(k[1])\n",
    "    print(tuple1)\n",
    "        "
   ]
  },
  {
   "cell_type": "code",
   "execution_count": 7,
   "id": "3bcf1bac-5fb2-4005-b9ef-577086c4930e",
   "metadata": {},
   "outputs": [
    {
     "name": "stdout",
     "output_type": "stream",
     "text": [
      "{2: 2.7777777777777777, 3: 5.555555555555555, 4: 8.333333333333332, 5: 11.11111111111111, 6: 13.88888888888889, 7: 16.666666666666664, 8: 13.88888888888889, 9: 11.11111111111111, 10: 8.333333333333332, 11: 5.555555555555555, 12: 2.7777777777777777}\n",
      "[(1, 1), (1, 2), (1, 3), (1, 4), (1, 5), (1, 6), (2, 1), (2, 2), (2, 3), (2, 4), (2, 5), (2, 6), (3, 1), (3, 2), (3, 3), (3, 4), (3, 5), (3, 6), (4, 1), (4, 2), (4, 3), (4, 4), (4, 5), (4, 6), (5, 1), (5, 2), (5, 3), (5, 4), (5, 5), (5, 6), (6, 1), (6, 2), (6, 3), (6, 4), (6, 5), (6, 6)]\n",
      "\n",
      "\n",
      "(4, 9)\n",
      "\n",
      "\n",
      "(5, 9)\n",
      "\n",
      "\n",
      "(7, 4)\n",
      "\n",
      "\n",
      "(7, 6)\n",
      "\n",
      "\n",
      "(12, 2)\n",
      "WInner: player2\n"
     ]
    }
   ],
   "source": [
    "d1 = [1,2,3,4,5,6]\n",
    "d2 = [1,2,3,4,5,6]\n",
    "R = 5\n",
    "o = [[(1,3),(4,5)],[(2,3),(4,5)],[(1,6),(2,2)],[(3,4),(5,1)],[(6,6),(1,1)]]\n",
    "score ={'player1':0,'player2':0}\n",
    "li = []\n",
    "for i in d1:\n",
    "    for j in d2:\n",
    "        li.append((i,j))\n",
    "di = {}\n",
    "n = len(li)\n",
    "for i in li:\n",
    "    s = sum(i)\n",
    "    if s in di:\n",
    "        di[s].append(i)\n",
    "    else:\n",
    "        di[s] = [i];\n",
    "\n",
    "for i,j in di.items():\n",
    "    di[i] = len(j)/n*100\n",
    "\n",
    "print(di)\n",
    "print(li)\n",
    "for i in o:\n",
    "    tuple1=sum(i[0])\n",
    "    tuple2=sum(i[1])\n",
    "    print(\"\\n\")\n",
    "    print((tuple1,tuple2))\n",
    "    if (di[tuple1]<di[tuple2]):\n",
    "        score['player1'] +=1\n",
    "    elif(di[tuple1]>di[tuple2]):\n",
    "        score['player2'] +=1\n",
    "    else:\n",
    "        pass\n",
    "print(\"WInner:\",max(score))\n"
   ]
  },
  {
   "cell_type": "code",
   "execution_count": 1,
   "id": "2c9b20ff-8660-4da0-bd10-a8d074d390df",
   "metadata": {},
   "outputs": [
    {
     "name": "stdout",
     "output_type": "stream",
     "text": [
      "{2: 2.7777777777777777, 3: 5.555555555555555, 4: 8.333333333333332, 5: 11.11111111111111, 6: 13.88888888888889, 7: 16.666666666666664, 8: 13.88888888888889, 9: 11.11111111111111, 10: 8.333333333333332, 11: 5.555555555555555, 12: 2.7777777777777777}\n",
      "[(1, 1), (1, 2), (1, 3), (1, 4), (1, 5), (1, 6), (2, 1), (2, 2), (2, 3), (2, 4), (2, 5), (2, 6), (3, 1), (3, 2), (3, 3), (3, 4), (3, 5), (3, 6), (4, 1), (4, 2), (4, 3), (4, 4), (4, 5), (4, 6), (5, 1), (5, 2), (5, 3), (5, 4), (5, 5), (5, 6), (6, 1), (6, 2), (6, 3), (6, 4), (6, 5), (6, 6)]\n"
     ]
    }
   ],
   "source": [
    "d1 = [1,2,3,4,5,6]\n",
    "d2 = [1,2,3,4,5,6]\n",
    "R = 5\n",
    "o = [[(1,3),(4,5)],[(2,3),(4,5)],[(1,6),(2,2)],[(3,4),(5,1)],[(6,6),(1,1)]]\n",
    "score ={'player1':0,'player2':0}\n",
    "li = []\n",
    "for i in d1:\n",
    "    for j in d2:\n",
    "        li.append((i,j))\n",
    "di = {}\n",
    "n = len(li)\n",
    "for i in li:\n",
    "    s = sum(i)\n",
    "    if s in di:\n",
    "        di[s].append(i)\n",
    "    else:\n",
    "        di[s] = [i];\n",
    "\n",
    "for i,j in di.items():\n",
    "    di[i] = len(j)/n*100\n",
    "\n",
    "print(di)\n",
    "print(li)"
   ]
  },
  {
   "cell_type": "code",
   "execution_count": null,
   "id": "d09b3b89-4c43-4a81-a7f2-fad3bef60494",
   "metadata": {},
   "outputs": [],
   "source": []
  }
 ],
 "metadata": {
  "kernelspec": {
   "display_name": "Python 3 (ipykernel)",
   "language": "python",
   "name": "python3"
  },
  "language_info": {
   "codemirror_mode": {
    "name": "ipython",
    "version": 3
   },
   "file_extension": ".py",
   "mimetype": "text/x-python",
   "name": "python",
   "nbconvert_exporter": "python",
   "pygments_lexer": "ipython3",
   "version": "3.12.7"
  }
 },
 "nbformat": 4,
 "nbformat_minor": 5
}
