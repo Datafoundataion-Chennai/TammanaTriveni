{
 "cells": [
  {
   "cell_type": "markdown",
   "id": "8438e810-2484-4042-8a32-0fe148431885",
   "metadata": {},
   "source": [
    "## Array"
   ]
  },
  {
   "cell_type": "code",
   "execution_count": null,
   "id": "ba7a4fff-992c-45d2-a9da-9ea70a177ec0",
   "metadata": {},
   "outputs": [],
   "source": [
    "import array\n",
    "arr = array.array('i',[1,2,3,4,5,6])\n",
    "print(arr[1])"
   ]
  },
  {
   "cell_type": "markdown",
   "id": "944c6da5-c19a-437f-95f4-950bb43875c9",
   "metadata": {},
   "source": [
    "## Theory"
   ]
  },
  {
   "cell_type": "code",
   "execution_count": null,
   "id": "ca0867b0-8c8f-42c6-b2e2-5d06c7b8589e",
   "metadata": {},
   "outputs": [],
   "source": [
    "arrray stores homogenous\n",
    "array is fastter than list\n",
    "array uses less memory becayuse we declare here datatype it self\n",
    "Difference between signed and unsigned \n",
    "difference b/w float and double\n",
    "i====int, I ==== unsigned int , b===char, f===float, d===double"
   ]
  },
  {
   "cell_type": "code",
   "execution_count": 3,
   "id": "8445b6d0-031f-488e-b7d4-26076eb78a33",
   "metadata": {},
   "outputs": [
    {
     "name": "stdout",
     "output_type": "stream",
     "text": [
      "6\n",
      "5\n",
      "4\n",
      "3\n",
      "2\n",
      "1\n"
     ]
    }
   ],
   "source": [
    "for i in range(len(arr)-1 , -1, -1):\n",
    "    print(arr[i])"
   ]
  },
  {
   "cell_type": "code",
   "execution_count": 4,
   "id": "5a2a6823-f40a-40f1-9939-c326d1d1aa5c",
   "metadata": {},
   "outputs": [
    {
     "name": "stdout",
     "output_type": "stream",
     "text": [
      "array('i', [1, 2, 3, 3, 4, 5, 6])\n"
     ]
    }
   ],
   "source": [
    "arr.insert(2,3)\n",
    "print(arr)"
   ]
  },
  {
   "cell_type": "code",
   "execution_count": 5,
   "id": "c6d20c84-3695-4a5b-a777-f4fc7534431d",
   "metadata": {},
   "outputs": [
    {
     "name": "stdout",
     "output_type": "stream",
     "text": [
      "array('i', [1, 2, 3, 3, 4, 5])\n"
     ]
    }
   ],
   "source": [
    "print(arr[0:6])"
   ]
  },
  {
   "cell_type": "markdown",
   "id": "15ea92fe-2927-489d-baeb-0afc30756329",
   "metadata": {},
   "source": [
    "## Negative nd step indexing"
   ]
  },
  {
   "cell_type": "code",
   "execution_count": 9,
   "id": "8824e36f-9aa4-414f-9e75-b0e79048051c",
   "metadata": {},
   "outputs": [
    {
     "name": "stdout",
     "output_type": "stream",
     "text": [
      "Python\n"
     ]
    }
   ],
   "source": [
    "st=\"javaAndPython\"\n",
    "print(st[-6:])"
   ]
  },
  {
   "cell_type": "code",
   "execution_count": 11,
   "id": "6f3cf2b2-7ea2-478c-a039-4c939b13f1db",
   "metadata": {},
   "outputs": [
    {
     "name": "stdout",
     "output_type": "stream",
     "text": [
      "jvAdyhn\n"
     ]
    }
   ],
   "source": [
    "st=\"javaAndPython\"\n",
    "print(st[::2])"
   ]
  },
  {
   "cell_type": "markdown",
   "id": "27b2f9a6-cbea-48fd-8330-21d5bd17956d",
   "metadata": {},
   "source": [
    "## NONE"
   ]
  },
  {
   "cell_type": "code",
   "execution_count": 12,
   "id": "6120d3d5-53b8-47c9-b5c7-02564c5885e9",
   "metadata": {},
   "outputs": [
    {
     "name": "stdout",
     "output_type": "stream",
     "text": [
      "helo\n",
      "None\n"
     ]
    }
   ],
   "source": [
    "x=None\n",
    "def dummy():\n",
    "    print(\"helo\")\n",
    "print(dummy())"
   ]
  },
  {
   "cell_type": "markdown",
   "id": "2e5f8f0c-97f9-4b81-bdd7-ae1a9c09ec7e",
   "metadata": {},
   "source": [
    "## Cases in python"
   ]
  },
  {
   "cell_type": "code",
   "execution_count": null,
   "id": "8ddb1ab8-a894-4bb2-ab90-66574e22665e",
   "metadata": {},
   "outputs": [],
   "source": [
    "#Pascal case == HelloWorld\n",
    "#camel case == helloWorld\n",
    "#snake case == hello_world\n",
    "#screamin snake == HELLO_WORLD"
   ]
  },
  {
   "cell_type": "markdown",
   "id": "c056e6fc-8c44-42ce-ba1e-e31fa50d71de",
   "metadata": {},
   "source": [
    "## Classes and Objects  in Oops\n",
    "set of att dn methods for classes"
   ]
  },
  {
   "cell_type": "code",
   "execution_count": 16,
   "id": "812a4ce4-4ad5-4b58-aeb3-3740b00f3430",
   "metadata": {},
   "outputs": [
    {
     "name": "stdout",
     "output_type": "stream",
     "text": [
      "Starting.... honda city\n",
      "Insert Key\n"
     ]
    }
   ],
   "source": [
    "class Car:\n",
    "    def __init__(self,br,m,p,c): #used for initialisinf the mem varibales\n",
    "        #when u declare object then self points towards this object\n",
    "        self.brand=br  #member variables\n",
    "        self.model=m\n",
    "        self.price=p\n",
    "        self.color=c\n",
    "\n",
    "\n",
    "    def start(self,key): #one member function or #behaviors\n",
    "        if key:\n",
    "            print(\"Starting....\",self.brand,self.model)\n",
    "        else:\n",
    "            print(\"Insert Key\")\n",
    "            \n",
    "car1=Car(\"honda\",\"city\",190000000.00,\"white\")  #we should pass necessary arguments to the constructor\n",
    "car2=Car(\"tata\",\"punch\",11000000.00,\"black\")\n",
    "\n",
    "car1.start(True) #. is used to access from mem function\n",
    "car2.start(False)\n"
   ]
  },
  {
   "cell_type": "code",
   "execution_count": 18,
   "id": "b032addd-3659-4dc6-a947-205c88538391",
   "metadata": {},
   "outputs": [
    {
     "name": "stdout",
     "output_type": "stream",
     "text": [
      "New model is Triveni\n",
      "Starting.... honda Triveni\n",
      "Insert Key\n"
     ]
    }
   ],
   "source": [
    "class Car:\n",
    "    def __init__(self,br,m,p,c): #used for initialisinf the mem varibales\n",
    "        #when u declare object then self points towards this object\n",
    "        self.brand=br  #member variables\n",
    "        self.model=m\n",
    "        self.price=p\n",
    "        self.color=c\n",
    "\n",
    "\n",
    "    def start(self,key): #one member function or #behaviors\n",
    "        if key:\n",
    "            print(\"Starting....\",self.brand,self.model)\n",
    "        else:\n",
    "            print(\"Insert Key\")\n",
    "            \n",
    "car1=Car(\"honda\",\"city\",190000000.00,\"white\")  #we should pass necessary arguments to the constructor\n",
    "car2=Car(\"tata\",\"punch\",11000000.00,\"black\")\n",
    "\n",
    "car1.model=\"Triveni\"\n",
    "print(\"New model is\",car1.model)\n",
    "\n",
    "car1.start(True) #. is used to access from mem function\n",
    "car2.start(False)\n"
   ]
  },
  {
   "cell_type": "markdown",
   "id": "5b79f862-65fe-4084-8133-3434c55485d4",
   "metadata": {},
   "source": [
    "## Inheritance (single)"
   ]
  },
  {
   "cell_type": "code",
   "execution_count": 26,
   "id": "866b0ed7-d0bd-44c0-a4eb-b13654c2d004",
   "metadata": {},
   "outputs": [
    {
     "name": "stdout",
     "output_type": "stream",
     "text": [
      "Carname\n",
      "John Wick John@gmail.com\n",
      "Starting.... Carname Cartype\n",
      "New model is Triveni\n",
      "Starting.... honda Triveni\n",
      "Insert Key\n"
     ]
    }
   ],
   "source": [
    "#car is class\n",
    "#child class is customer\n",
    "class Car:\n",
    "    def __init__(self,br,m,p,c): #used for initialisinf the mem varibales\n",
    "        #when u declare object then self points towards this object\n",
    "        self.brand=br  #member variables\n",
    "        self.model=m\n",
    "        self.price=p\n",
    "        self.color=c\n",
    "\n",
    "\n",
    "    def start(self,key): #one member function or #behaviors\n",
    "        if key:\n",
    "            print(\"Starting....\",self.brand,self.model)\n",
    "        else:\n",
    "            print(\"Insert Key\")\n",
    "\n",
    "\n",
    "\n",
    "#inheritance \n",
    "class Customer(Car):\n",
    "    def __init__(self,n,e,a,l,br,m,p,c):\n",
    "        super().__init__(br,m,p,c) #super() used for getting values from parent class \n",
    "        self.name=n\n",
    "        self.email=e\n",
    "        self.age=a\n",
    "        self.location=l\n",
    "        \n",
    "    def display(self):\n",
    "        print(self.name, self.email)\n",
    "        \n",
    "    \n",
    "            \n",
    "car1=Car(\"honda\",\"city\",190000000.00,\"white\")  #we should pass necessary arguments to the constructor\n",
    "car2=Car(\"tata\",\"punch\",11000000.00,\"black\")\n",
    "\n",
    "\n",
    "john=Customer(\"John Wick\",\"John@gmail.com\",34,\"NYC\",\"Carname\",\"Cartype\",189899384937,\"green\")\n",
    "print(john.brand)\n",
    "john.display()\n",
    "john.start(True)\n",
    "\n",
    "car1.model=\"Triveni\"\n",
    "print(\"New model is\",car1.model)\n",
    "\n",
    "\n",
    "car1.start(True) #. is used to access from mem function\n",
    "car2.start(False)\n"
   ]
  },
  {
   "cell_type": "markdown",
   "id": "f024766e-73a9-4cae-a945-dbd4c334feee",
   "metadata": {},
   "source": [
    "## Mulilevel inheritance"
   ]
  },
  {
   "cell_type": "code",
   "execution_count": 32,
   "id": "0855a7d5-be05-49b8-9508-21e587de4dea",
   "metadata": {},
   "outputs": [
    {
     "name": "stdout",
     "output_type": "stream",
     "text": [
      "Carname\n",
      "John Wick John@gmail.com\n",
      "Starting.... Carname Cartype\n",
      "New model is Triveni\n",
      "Manager name:::: mr.abc\n",
      "Starting.... honda Triveni\n",
      "Insert Key\n"
     ]
    }
   ],
   "source": [
    "class ShowRoom:\n",
    "    def __init__(self,address=\"chennai\",manager=\"mr.abc\"): #default argumetns if needed\n",
    "        self.address = address\n",
    "        self.manager = manager\n",
    "        \n",
    "    def change_manager(m):\n",
    "        self.manager=m\n",
    "        print(self.manager)\n",
    "\n",
    "\n",
    "\n",
    "class Car(ShowRoom):\n",
    "    def __init__(self,br,m,p,c): #used for initialisinf the mem varibales\n",
    "        super().__init__()\n",
    "        #when u declare object then self points towards this object\n",
    "        self.brand=br  #member variables\n",
    "        self.model=m\n",
    "        self.price=p\n",
    "        self.color=c\n",
    "\n",
    "\n",
    "    def start(self,key): #one member function or #behaviors\n",
    "        if key:\n",
    "            print(\"Starting....\",self.brand,self.model)\n",
    "        else:\n",
    "            print(\"Insert Key\")\n",
    "\n",
    "\n",
    "\n",
    "#inheritance \n",
    "class Customer(Car):\n",
    "    def __init__(self,n,e,a,l,br,m,p,c):\n",
    "        super().__init__(br,m,p,c) #super() used for getting values from parent class \n",
    "        self.name=n\n",
    "        self.email=e\n",
    "        self.age=a\n",
    "        self.location=l\n",
    "        \n",
    "    def display(self):\n",
    "        print(self.name, self.email)\n",
    "        \n",
    "    \n",
    "            \n",
    "car1=Car(\"honda\",\"city\",190000000.00,\"white\")  #we should pass necessary arguments to the constructor\n",
    "car2=Car(\"tata\",\"punch\",11000000.00,\"black\")\n",
    "\n",
    "\n",
    "john=Customer(\"John Wick\",\"John@gmail.com\",34,\"NYC\",\"Carname\",\"Cartype\",189899384937,\"green\")\n",
    "print(john.brand)\n",
    "john.display()\n",
    "john.start(True)\n",
    "\n",
    "car1.model=\"Triveni\"\n",
    "print(\"New model is\",car1.model)\n",
    "print(\"Manager name::::\",car1.manager)\n",
    "\n",
    "\n",
    "car1.start(True) #. is used to access from mem function\n",
    "car2.start(False)\n"
   ]
  },
  {
   "cell_type": "markdown",
   "id": "f5858b69-b03e-49b9-851e-daf6af6f5adc",
   "metadata": {},
   "source": [
    "## Multiple inheritance"
   ]
  },
  {
   "cell_type": "code",
   "execution_count": 39,
   "id": "929df590-18e9-4163-8408-c493d9e20334",
   "metadata": {},
   "outputs": [
    {
     "ename": "NameError",
     "evalue": "name 'address' is not defined",
     "output_type": "error",
     "traceback": [
      "\u001b[1;31m---------------------------------------------------------------------------\u001b[0m",
      "\u001b[1;31mNameError\u001b[0m                                 Traceback (most recent call last)",
      "Cell \u001b[1;32mIn[39], line 50\u001b[0m\n\u001b[0;32m     46\u001b[0m car1\u001b[38;5;241m=\u001b[39mCar(\u001b[38;5;124m\"\u001b[39m\u001b[38;5;124mhonda\u001b[39m\u001b[38;5;124m\"\u001b[39m,\u001b[38;5;124m\"\u001b[39m\u001b[38;5;124mcity\u001b[39m\u001b[38;5;124m\"\u001b[39m,\u001b[38;5;241m190000000.00\u001b[39m,\u001b[38;5;124m\"\u001b[39m\u001b[38;5;124mwhite\u001b[39m\u001b[38;5;124m\"\u001b[39m)  \u001b[38;5;66;03m#we should pass necessary arguments to the constructor\u001b[39;00m\n\u001b[0;32m     47\u001b[0m car2\u001b[38;5;241m=\u001b[39mCar(\u001b[38;5;124m\"\u001b[39m\u001b[38;5;124mtata\u001b[39m\u001b[38;5;124m\"\u001b[39m,\u001b[38;5;124m\"\u001b[39m\u001b[38;5;124mpunch\u001b[39m\u001b[38;5;124m\"\u001b[39m,\u001b[38;5;241m11000000.00\u001b[39m,\u001b[38;5;124m\"\u001b[39m\u001b[38;5;124mblack\u001b[39m\u001b[38;5;124m\"\u001b[39m)\n\u001b[1;32m---> 50\u001b[0m john\u001b[38;5;241m=\u001b[39mCustomer(\u001b[38;5;124m\"\u001b[39m\u001b[38;5;124mJohn Wick\u001b[39m\u001b[38;5;124m\"\u001b[39m,\u001b[38;5;124m\"\u001b[39m\u001b[38;5;124mJohn@gmail.com\u001b[39m\u001b[38;5;124m\"\u001b[39m,\u001b[38;5;241m34\u001b[39m,\u001b[38;5;124m\"\u001b[39m\u001b[38;5;124mNYC\u001b[39m\u001b[38;5;124m\"\u001b[39m,\u001b[38;5;124m\"\u001b[39m\u001b[38;5;124mCarname\u001b[39m\u001b[38;5;124m\"\u001b[39m,\u001b[38;5;124m\"\u001b[39m\u001b[38;5;124mCartype\u001b[39m\u001b[38;5;124m\"\u001b[39m,\u001b[38;5;241m189899384937\u001b[39m,\u001b[38;5;124m\"\u001b[39m\u001b[38;5;124mgreen\u001b[39m\u001b[38;5;124m\"\u001b[39m,\u001b[38;5;124m\"\u001b[39m\u001b[38;5;124mchennai\u001b[39m\u001b[38;5;124m\"\u001b[39m,\u001b[38;5;124m\"\u001b[39m\u001b[38;5;124mphone\u001b[39m\u001b[38;5;124m\"\u001b[39m)\n\u001b[0;32m     51\u001b[0m \u001b[38;5;28mprint\u001b[39m(john\u001b[38;5;241m.\u001b[39mmanager)\n\u001b[0;32m     52\u001b[0m john\u001b[38;5;241m.\u001b[39mdisplay()\n",
      "Cell \u001b[1;32mIn[39], line 34\u001b[0m, in \u001b[0;36mCustomer.__init__\u001b[1;34m(self, n, e, a, l, br, m, p, c, addr, mn)\u001b[0m\n\u001b[0;32m     32\u001b[0m \u001b[38;5;28;01mdef\u001b[39;00m \u001b[38;5;21m__init__\u001b[39m(\u001b[38;5;28mself\u001b[39m,n,e,a,l,br,m,p,c,addr,mn):\n\u001b[0;32m     33\u001b[0m     Car\u001b[38;5;241m.\u001b[39m\u001b[38;5;21m__init__\u001b[39m(\u001b[38;5;28mself\u001b[39m,br,m,p,c)\n\u001b[1;32m---> 34\u001b[0m     ShowRoom\u001b[38;5;241m.\u001b[39m\u001b[38;5;21m__init__\u001b[39m(address,manager)\n\u001b[0;32m     35\u001b[0m     \u001b[38;5;66;03m#super() used for getting values from parent class \u001b[39;00m\n\u001b[0;32m     36\u001b[0m     \u001b[38;5;28mself\u001b[39m\u001b[38;5;241m.\u001b[39mname\u001b[38;5;241m=\u001b[39mn\n",
      "\u001b[1;31mNameError\u001b[0m: name 'address' is not defined"
     ]
    }
   ],
   "source": [
    "class ShowRoom:\n",
    "    def __init__(self,address=\"chennai\",manager=\"mr.abc\"): #default argumetns if needed\n",
    "        self.address = address\n",
    "        self.manager = manager\n",
    "        \n",
    "    def change_manager(m):\n",
    "        self.manager=m\n",
    "        print(self.manager)\n",
    "\n",
    "\n",
    "\n",
    "class Car(ShowRoom):\n",
    "    def __init__(self,br,m,p,c): #used for initialisinf the mem varibales\n",
    "        super().__init__()\n",
    "        #when u declare object then self points towards this object\n",
    "        self.brand=br  #member variables\n",
    "        self.model=m\n",
    "        self.price=p\n",
    "        self.color=c\n",
    "\n",
    "\n",
    "    def start(self,key): #one member function or #behaviors\n",
    "        if key:\n",
    "            print(\"Starting....\",self.brand,self.model)\n",
    "        else:\n",
    "            print(\"Insert Key\")\n",
    "\n",
    "\n",
    "\n",
    "#inheritance \n",
    "class Customer(Car,ShowRoom):\n",
    "    def __init__(self,n,e,a,l,br,m,p,c,addr,mn):\n",
    "        Car.__init__(self,br,m,p,c)\n",
    "        ShowRoom.__init__(address,manager)\n",
    "        #super() used for getting values from parent class \n",
    "        self.name=n\n",
    "        self.email=e\n",
    "        self.age=a\n",
    "        self.location=l\n",
    "        \n",
    "    def display(self):\n",
    "        print(self.name, self.email)\n",
    "        \n",
    "    \n",
    "            \n",
    "car1=Car(\"honda\",\"city\",190000000.00,\"white\")  #we should pass necessary arguments to the constructor\n",
    "car2=Car(\"tata\",\"punch\",11000000.00,\"black\")\n",
    "\n",
    "\n",
    "john=Customer(\"John Wick\",\"John@gmail.com\",34,\"NYC\",\"Carname\",\"Cartype\",189899384937,\"green\",\"chennai\",\"phone\")\n",
    "print(john.manager)\n",
    "john.display()\n",
    "john.start(True)\n",
    "\n",
    "car1.model=\"Triveni\"\n",
    "print(\"New model is\",car1.model)\n",
    "print(\"Manager name::::\",car1.manager)\n",
    "\n",
    "\n",
    "car1.start(True) #. is used to access from mem function\n",
    "car2.start(False)\n"
   ]
  },
  {
   "cell_type": "code",
   "execution_count": 41,
   "id": "64849ece-b736-4285-baba-f4de8fb30b76",
   "metadata": {},
   "outputs": [
    {
     "name": "stdout",
     "output_type": "stream",
     "text": [
      "phone\n",
      "John Wick John@gmail.com\n"
     ]
    },
    {
     "ename": "AttributeError",
     "evalue": "'Customer' object has no attribute 'start'",
     "output_type": "error",
     "traceback": [
      "\u001b[1;31m---------------------------------------------------------------------------\u001b[0m",
      "\u001b[1;31mAttributeError\u001b[0m                            Traceback (most recent call last)",
      "Cell \u001b[1;32mIn[41], line 52\u001b[0m\n\u001b[0;32m     50\u001b[0m \u001b[38;5;28mprint\u001b[39m(john\u001b[38;5;241m.\u001b[39mmanager)\n\u001b[0;32m     51\u001b[0m john\u001b[38;5;241m.\u001b[39mdisplay()\n\u001b[1;32m---> 52\u001b[0m john\u001b[38;5;241m.\u001b[39mstart(\u001b[38;5;28;01mTrue\u001b[39;00m)\n\u001b[0;32m     53\u001b[0m john\u001b[38;5;241m.\u001b[39mchange_manager(\u001b[38;5;124m\"\u001b[39m\u001b[38;5;124mmrs.amano\u001b[39m\u001b[38;5;124m\"\u001b[39m)\n\u001b[0;32m     55\u001b[0m car1\u001b[38;5;241m.\u001b[39mmodel\u001b[38;5;241m=\u001b[39m\u001b[38;5;124m\"\u001b[39m\u001b[38;5;124mTriveni\u001b[39m\u001b[38;5;124m\"\u001b[39m\n",
      "\u001b[1;31mAttributeError\u001b[0m: 'Customer' object has no attribute 'start'"
     ]
    }
   ],
   "source": [
    "class ShowRoom:\n",
    "    def __init__(self,address=\"chennai\",manager=\"mr.abc\"): #default argumetns if needed\n",
    "        self.address = address\n",
    "        self.manager = manager\n",
    "        \n",
    "    def change_manager(self,m):\n",
    "        self.manager=m\n",
    "        print(self.manager)\n",
    "\n",
    "\n",
    "\n",
    "class Car(ShowRoom):\n",
    "    def __init__(self,br,m,p,c): #used for initialisinf the mem varibales\n",
    "        super().__init__()\n",
    "        #when u declare object then self points towards this object\n",
    "        self.brand=br  #member variables\n",
    "        self.model=m\n",
    "        self.price=p\n",
    "        self.color=c\n",
    "\n",
    "\n",
    "    def start(self,key): #one member function or #behaviors\n",
    "        if key:\n",
    "            print(\"Starting....\",self.brand,self.model)\n",
    "        else:\n",
    "            print(\"Insert Key\")\n",
    "\n",
    "\n",
    "\n",
    "#inheritance \n",
    "class Customer(ShowRoom):\n",
    "    def __init__(self,n,e,a,l,br,m,p,c,address,manager):\n",
    "        super().__init__(address,manager)\n",
    "        #super() used for getting values from parent class \n",
    "        self.name=n\n",
    "        self.email=e\n",
    "        self.age=a\n",
    "        self.location=l\n",
    "        \n",
    "    def display(self):\n",
    "        print(self.name, self.email)\n",
    "        \n",
    "    \n",
    "            \n",
    "car1=Car(\"honda\",\"city\",190000000.00,\"white\")  #we should pass necessary arguments to the constructor\n",
    "car2=Car(\"tata\",\"punch\",11000000.00,\"black\")\n",
    "\n",
    "\n",
    "john=Customer(\"John Wick\",\"John@gmail.com\",34,\"NYC\",\"Carname\",\"Cartype\",189899384937,\"green\",\"chennai\",\"phone\")\n",
    "print(john.manager)\n",
    "john.display()\n",
    "john.start(True)\n",
    "john.change_manager(\"mrs.amano\")\n",
    "\n",
    "car1.model=\"Triveni\"\n",
    "print(\"New model is\",car1.model)\n",
    "print(\"Manager name::::\",car1.manager)\n",
    "\n",
    "\n",
    "car1.start(True) #. is used to access from mem function\n",
    "car2.start(False)\n"
   ]
  },
  {
   "cell_type": "code",
   "execution_count": null,
   "id": "65e12429-b6ec-45cf-892b-424c63add64f",
   "metadata": {},
   "outputs": [],
   "source": [
    "class Character:\n",
    "    def __init__(self,name,health,attack_power,defense,speed):\n",
    "        self.name=name\n",
    "        self.health=health\n",
    "        self.attack_power=attack_power\n",
    "        self.defense=defense\n",
    "        self.speed=speed\n",
    "    def attack(self,target):\n",
    "        damage = max(1, self.attack_power - target.defense)\n",
    "        target.take_damage(damage)\n",
    "        \n",
    "\n",
    "    def take_damage(self,amount):\n",
    "        self.health-=amount\n",
    "\n",
    "    def is_alive(self):\n",
    "        return self.health >0\n",
    "\n",
    "class Warrior(Character):\n",
    "    def __init__(self, rage):\n",
    "        super().__init__(name, health=100, attack_power=25, defense=10, speed=14):\n",
    "        self.rage=0\n",
    "    \n",
    "    def take_damage(self,amount):\n",
    "        super().__init__take_damage(amount)\n",
    "        self.rage += amount\n",
    "        if self.health < 30:\n",
    "            self.attack_power *= 2\n",
    "\n",
    "class Mage(Character):\n",
    "    def __init__(self, mana):\n",
    "        super().__init__(name, health=80, attack_power=30, defense=5, speed=7)\n",
    "        self.mana = 0\n",
    "\n",
    "    def fireball(self,target):\n",
    "        if self.mana >= 20:\n",
    "            damage = 40\n",
    "            self.mana -= 20\n",
    "            self.take_damage(5) \n",
    "            target.take_damage(damage)\n",
    "        else:\n",
    "            print(\"Insufficient mana\")\n",
    "\n",
    "class Archer(Character):\n",
    "    def __init__(self, critical_chance):\n",
    "        super().__init__(name, health=90, attack_power=22, defense=7, speed=10)\n",
    "        self.critical_chance = 30\n",
    "        \n",
    "    def attack(self, target):\n",
    "        critical_hit = random.randint(1, 100) <= self.critical_chance\n",
    "        damage = self.attack_power * (2 if critical_hit else 1)\n",
    "        target.take_damage(damage)\n",
    "        if critical_hit:\n",
    "            print(\"Lands a critical hit\")\n",
    "        else:\n",
    "            print(\"Lands a normal arrow\")\n",
    "\n",
    "\n",
    "def battle(char1, char2):\n",
    "    print(\"Battle Start! \")\n",
    "    characters = sorted([char1, char2], key=lambda x: -x.speed)\n",
    "    \n",
    "    while char1.is_alive() and char2.is_alive():\n",
    "        for char in characters:\n",
    "            if char.is_alive():\n",
    "                if isinstance(char, Mage) and char.mana >= 20:\n",
    "                    char.fireball(char2 if char == char1 else char1)\n",
    "                else:\n",
    "                    char.attack(char2 if char == char1 else char1)\n",
    "            if not char1.is_alive() or not char2.is_alive():\n",
    "                break\n",
    "    \n",
    "    winner = char1 if char1.is_alive() else char2\n",
    "    print(f\" {winner.name} wins the battle!\")\n",
    "        \n",
    "        \n",
    "\n",
    "        "
   ]
  },
  {
   "cell_type": "code",
   "execution_count": 2,
   "id": "60a9548e-fce2-43ce-bb76-97323def7726",
   "metadata": {},
   "outputs": [
    {
     "name": "stdout",
     "output_type": "stream",
     "text": [
      "False\n"
     ]
    }
   ],
   "source": []
  },
  {
   "cell_type": "markdown",
   "id": "e6158b94-b5d5-4c9f-9184-b5befdfe0159",
   "metadata": {},
   "source": [
    "## @static method , @abstraction method\n",
    "\n",
    "def buy_car(self):\n",
    "    pass\n",
    "\n",
    "if have abstract methond in class that class is also called abstraction method\n",
    "abstract class cannot be instantiable --> child should implement the abstract method\n",
    "explained same like chatpgpt given"
   ]
  },
  {
   "cell_type": "code",
   "execution_count": 1,
   "id": "6367a6e7-2ca9-4b83-b505-82e2a5c6a06d",
   "metadata": {},
   "outputs": [
    {
     "name": "stdout",
     "output_type": "stream",
     "text": [
      "nhy\n"
     ]
    }
   ],
   "source": [
    "s=\"python\"\n",
    "print(s[::-2])"
   ]
  },
  {
   "cell_type": "code",
   "execution_count": 2,
   "id": "09c03517-782d-48c3-947d-2bc801d7064c",
   "metadata": {},
   "outputs": [
    {
     "ename": "TypeError",
     "evalue": "'str' object does not support item assignment",
     "output_type": "error",
     "traceback": [
      "\u001b[1;31m---------------------------------------------------------------------------\u001b[0m",
      "\u001b[1;31mTypeError\u001b[0m                                 Traceback (most recent call last)",
      "Cell \u001b[1;32mIn[2], line 2\u001b[0m\n\u001b[0;32m      1\u001b[0m s\u001b[38;5;241m=\u001b[39m\u001b[38;5;124m\"\u001b[39m\u001b[38;5;124mabcdef\u001b[39m\u001b[38;5;124m\"\u001b[39m\n\u001b[1;32m----> 2\u001b[0m s[\u001b[38;5;241m2\u001b[39m:\u001b[38;5;241m5\u001b[39m] \u001b[38;5;241m=\u001b[39m\u001b[38;5;124m\"\u001b[39m\u001b[38;5;124mXYZ\u001b[39m\u001b[38;5;124m\"\u001b[39m\n\u001b[0;32m      3\u001b[0m \u001b[38;5;28mprint\u001b[39m(s)\n",
      "\u001b[1;31mTypeError\u001b[0m: 'str' object does not support item assignment"
     ]
    }
   ],
   "source": [
    "s=\"abcdef\"\n",
    "s[2:5] =\"XYZ\"\n",
    "print(s)\n",
    "\n",
    "#strings are immutatble"
   ]
  },
  {
   "cell_type": "code",
   "execution_count": 3,
   "id": "81dc5573-ac9d-4a97-8e9e-d0d30bf28198",
   "metadata": {},
   "outputs": [
    {
     "ename": "TypeError",
     "evalue": "unsupported operand type(s) for -: 'str' and 'str'",
     "output_type": "error",
     "traceback": [
      "\u001b[1;31m---------------------------------------------------------------------------\u001b[0m",
      "\u001b[1;31mTypeError\u001b[0m                                 Traceback (most recent call last)",
      "Cell \u001b[1;32mIn[3], line 2\u001b[0m\n\u001b[0;32m      1\u001b[0m s\u001b[38;5;241m=\u001b[39m\u001b[38;5;124m\"\u001b[39m\u001b[38;5;124mhello\u001b[39m\u001b[38;5;124m\"\u001b[39m\n\u001b[1;32m----> 2\u001b[0m \u001b[38;5;28mprint\u001b[39m(s\u001b[38;5;241m*\u001b[39m\u001b[38;5;241m2\u001b[39m\u001b[38;5;241m-\u001b[39ms)\n",
      "\u001b[1;31mTypeError\u001b[0m: unsupported operand type(s) for -: 'str' and 'str'"
     ]
    }
   ],
   "source": [
    "s=\"hello\"\n",
    "print(s*2-s)"
   ]
  },
  {
   "cell_type": "code",
   "execution_count": 4,
   "id": "217a276f-64c0-4de5-90e6-8638c271f6f5",
   "metadata": {},
   "outputs": [
    {
     "name": "stdout",
     "output_type": "stream",
     "text": [
      "[1, 2, 3, 4]\n"
     ]
    }
   ],
   "source": [
    "a=[1,2,3]\n",
    "b=a\n",
    "b.append(4)\n",
    "print(a)"
   ]
  },
  {
   "cell_type": "code",
   "execution_count": 5,
   "id": "b4ff6b3d-5cf8-4f43-9dfe-6489487ff542",
   "metadata": {},
   "outputs": [
    {
     "name": "stdout",
     "output_type": "stream",
     "text": [
      "(1, 2, [100, 4])\n"
     ]
    }
   ],
   "source": [
    "t=(1,2,[3,4])\n",
    "t[2][0] =100\n",
    "print(t)"
   ]
  },
  {
   "cell_type": "code",
   "execution_count": 7,
   "id": "20b28535-213a-411d-be36-387c511eb492",
   "metadata": {},
   "outputs": [
    {
     "ename": "TypeError",
     "evalue": "unhashable type: 'list'",
     "output_type": "error",
     "traceback": [
      "\u001b[1;31m---------------------------------------------------------------------------\u001b[0m",
      "\u001b[1;31mTypeError\u001b[0m                                 Traceback (most recent call last)",
      "Cell \u001b[1;32mIn[7], line 2\u001b[0m\n\u001b[0;32m      1\u001b[0m s\u001b[38;5;241m=\u001b[39m{\u001b[38;5;241m1\u001b[39m,\u001b[38;5;241m2\u001b[39m,\u001b[38;5;241m3\u001b[39m}\n\u001b[1;32m----> 2\u001b[0m s\u001b[38;5;241m.\u001b[39madd([\u001b[38;5;241m4\u001b[39m,\u001b[38;5;241m5\u001b[39m])\n\u001b[0;32m      3\u001b[0m \u001b[38;5;28mprint\u001b[39m(s)\n",
      "\u001b[1;31mTypeError\u001b[0m: unhashable type: 'list'"
     ]
    }
   ],
   "source": [
    "s={1,2,3}\n",
    "s.add([4,5])\n",
    "print(s)"
   ]
  },
  {
   "cell_type": "code",
   "execution_count": 8,
   "id": "1d722114-1ff2-4a60-a1c3-56365202ddbb",
   "metadata": {},
   "outputs": [],
   "source": [
    "class A:\n",
    "    def __init__(self):\n",
    "        print(\"A\")\n",
    "class B:\n",
    "    def __init__(self):\n",
    "        print(\"B\")\n",
    "\n",
    "class C(A):\n",
    "    def __init__(self):\n",
    "        super().__init__()\n",
    "        print(\"C\")"
   ]
  },
  {
   "cell_type": "code",
   "execution_count": null,
   "id": "25a2f07e-5dab-4a4b-90ba-7d49144af3e2",
   "metadata": {},
   "outputs": [],
   "source": [
    "def take_damage(self,amount):\n",
    "    self.health-=amount"
   ]
  }
 ],
 "metadata": {
  "kernelspec": {
   "display_name": "Python 3 (ipykernel)",
   "language": "python",
   "name": "python3"
  },
  "language_info": {
   "codemirror_mode": {
    "name": "ipython",
    "version": 3
   },
   "file_extension": ".py",
   "mimetype": "text/x-python",
   "name": "python",
   "nbconvert_exporter": "python",
   "pygments_lexer": "ipython3",
   "version": "3.12.7"
  }
 },
 "nbformat": 4,
 "nbformat_minor": 5
}
