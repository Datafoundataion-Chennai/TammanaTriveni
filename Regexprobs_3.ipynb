{
 "cells": [
  {
   "cell_type": "markdown",
   "id": "864c0a66-a6b7-465f-b2ff-b12b174b3ab2",
   "metadata": {},
   "source": [
    "## Problem 1: Extract Valid Email Addresses \n",
    "Description: \n",
    "Write a Python program to extract all valid email addresses from a given text. \n",
    "An email is considered valid if it follows this pattern: - Starts with alphanumeric \n",
    "characters ([a-zA-Z0-9]) - May contain periods (.), underscores (_), or hyphens (-) \n",
    "before the @ - Must contain an @ symbol - Domain name contains alphanumeric \n",
    "characters, possibly hyphens (-) - Ends with a valid top-level domain (e.g., .com, .org, \n",
    ".net, .edu, etc.) \n",
    "Example Input: \n",
    "text = \"Contact us at support@example.com, john.doe123@company.org, or \n",
    "invalid-email@com. Also, try jane_doe@domain.co.uk.\" \n",
    "Expected Output: \n",
    "['support@example.com', 'john.doe123@company.org', 'jane_doe@domain.co.uk']"
   ]
  },
  {
   "cell_type": "code",
   "execution_count": 2,
   "id": "1880bfaa-c563-470b-954a-5a1d531b2385",
   "metadata": {},
   "outputs": [
    {
     "name": "stdout",
     "output_type": "stream",
     "text": [
      "['support@example.com', 'john.doe123@company.org', 'jane_doe@domain.co.uk.']\n"
     ]
    }
   ],
   "source": [
    "import re\n",
    "text = \"Contact us at support@example.com, john.doe123@company.org, or invalid-email@com. Also, try triveni@tri.c jane_doe@domain.co.uk.\"\n",
    "match=re.findall(r\"[a-zA-Z0-9._-]+@[a-zA-Z0-9-]+\\.[a-zA-Z.]{2,}\",text)\n",
    "print(match)"
   ]
  },
  {
   "cell_type": "markdown",
   "id": "c880ad68-f911-404d-9a5b-bb8267bfa423",
   "metadata": {},
   "source": [
    "## Problem 2: Extract Hashtags from a Tweet \n",
    "Description: \n",
    "Write a Python program to extract all hashtags (#hashtag) from a given text. - A hashtag: - Starts with # - Followed by letters, numbers, or underscores (_) - Cannot \n",
    "contain spaces or special characters (@, !, $, etc.) \n",
    "Example Input: \n",
    "tweet = \"Learning #Python is fun! #coding #100DaysOfCode #Regex_Challenge\" \n",
    "Expected Output: \n",
    "['#Python', '#coding', '#100DaysOfCode', '#Regex_Challenge']"
   ]
  },
  {
   "cell_type": "code",
   "execution_count": 3,
   "id": "8a632e7b-8c05-499a-a7d1-4195ac7ecdcc",
   "metadata": {},
   "outputs": [
    {
     "name": "stdout",
     "output_type": "stream",
     "text": [
      "['#Python', '#coding', '#100DaysOfCode', '#Regex_Challenge', '#Triveni']\n"
     ]
    }
   ],
   "source": [
    "import re\n",
    "tweet = \"Learning #Python is fun! #coding #100DaysOfCode #Regex_Challenge #Triveni$\"\n",
    "match=re.findall(r\"#\\w+\",tweet)\n",
    "print(match)"
   ]
  },
  {
   "cell_type": "markdown",
   "id": "ec5be7bf-27c6-4c27-bcf0-3ac1ef2cdc04",
   "metadata": {},
   "source": [
    "## Problem 3: Validate a Strong Password \n",
    "Description: \n",
    "Write a Python program to check if a password is strong based on these rules: 1. At least 8 \n",
    "characters long 2. Contains at least one uppercase letter (A-Z) 3. Contains at least one \n",
    "lowercase letter (a-z) 4. Contains at least one digit (0-9) 5. Contains at least one special \n",
    "character (@, $, !, %, *, ?, &)\n",
    "Example Inputs & Outputs: \n",
    "passwords = [\"WeakPass\", \"Str0ng@Pass\", \"NoSpecial1\", \"short!1\", \n",
    "\"Secure#123\"] \n",
    "Expected Output: \n",
    "WeakPass -> Invalid \n",
    "Str0ng@Pass -> Valid \n",
    "NoSpecial1 -> Invalid \n",
    "short!1 -> Invalid \n",
    "Secure#123 -> InValid"
   ]
  },
  {
   "cell_type": "code",
   "execution_count": 4,
   "id": "11e5aad0-6fa8-4030-b32b-a1bb1fea26ff",
   "metadata": {},
   "outputs": [
    {
     "name": "stdout",
     "output_type": "stream",
     "text": [
      "WeakPass -> Invalid\n",
      "Str0ng@Pass -> Valid\n",
      "NoSpecial1 -> Invalid\n",
      "short!1 -> Invalid\n",
      "Secure#123 -> Valid\n"
     ]
    }
   ],
   "source": [
    "import re\n",
    "\n",
    "passwords = [\"WeakPass\", \"Str0ng@Pass\", \"NoSpecial1\", \"short!1\", \"Secure#123\"]\n",
    "\n",
    "for password in passwords:\n",
    "    if (len(password) >= 8 and\n",
    "        re.search(r\"[A-Z]\", password) and \n",
    "        re.search(r\"[a-z]\", password) and \n",
    "        re.search(r\"[0-9]\", password) and \n",
    "        re.search(r\"[#@$!%*?&]\", password)):\n",
    "        print(f\"{password} -> Valid\")\n",
    "    else:\n",
    "        print(f\"{password} -> Invalid\")"
   ]
  },
  {
   "cell_type": "code",
   "execution_count": null,
   "id": "ab76a1f8-9221-429e-a872-35b527cb0ff6",
   "metadata": {},
   "outputs": [],
   "source": []
  }
 ],
 "metadata": {
  "kernelspec": {
   "display_name": "Python 3 (ipykernel)",
   "language": "python",
   "name": "python3"
  },
  "language_info": {
   "codemirror_mode": {
    "name": "ipython",
    "version": 3
   },
   "file_extension": ".py",
   "mimetype": "text/x-python",
   "name": "python",
   "nbconvert_exporter": "python",
   "pygments_lexer": "ipython3",
   "version": "3.12.7"
  }
 },
 "nbformat": 4,
 "nbformat_minor": 5
}
