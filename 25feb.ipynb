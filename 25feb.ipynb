{
 "cells": [
  {
   "cell_type": "code",
   "execution_count": 1,
   "id": "bfac9cce-d584-4c56-b342-58e52701f03e",
   "metadata": {},
   "outputs": [
    {
     "name": "stdout",
     "output_type": "stream",
     "text": [
      "triveni\n"
     ]
    }
   ],
   "source": [
    "print(\"triveni\")"
   ]
  },
  {
   "cell_type": "code",
   "execution_count": 4,
   "id": "a55a131f-3b4d-4a05-ac2c-b049b3839929",
   "metadata": {},
   "outputs": [
    {
     "name": "stdout",
     "output_type": "stream",
     "text": [
      "odd\n",
      "+\n"
     ]
    }
   ],
   "source": [
    "i=7\n",
    "if i<0:\n",
    "    print(\"-\")\n",
    "elif i>0:\n",
    "    if i%2==0:\n",
    "        print(\"EVEN\")\n",
    "    else:\n",
    "        print(\"odd\")\n",
    "    print(\"+\")\n",
    "else:\n",
    "    print(0)"
   ]
  },
  {
   "cell_type": "code",
   "execution_count": null,
   "id": "18d19908-f071-4f70-88da-2e3abe04fe0a",
   "metadata": {},
   "outputs": [],
   "source": [
    "for i in range(1,51):\n",
    "    if i%2==1:\n",
    "        print(i)"
   ]
  },
  {
   "cell_type": "code",
   "execution_count": null,
   "id": "11768c89-89a9-4634-bfd0-84aef6b4fff5",
   "metadata": {},
   "outputs": [],
   "source": [
    "o=1\n",
    "while o<10:\n",
    "    print(o)\n",
    "    o+=1"
   ]
  },
  {
   "cell_type": "code",
   "execution_count": 3,
   "id": "44b5406b-fa84-4d71-8a9a-8688addfdf7a",
   "metadata": {},
   "outputs": [
    {
     "name": "stdout",
     "output_type": "stream",
     "text": [
      "3\n",
      "5\n",
      "7\n",
      "9\n"
     ]
    }
   ],
   "source": [
    "#IF even skip the iteration\n",
    "o=1\n",
    "while o<10:\n",
    "    o+=1\n",
    "    if o%2 == 0:\n",
    "        continue\n",
    "    print(o)"
   ]
  },
  {
   "cell_type": "code",
   "execution_count": 4,
   "id": "08107038-51aa-4a01-bc47-3341dfd095a4",
   "metadata": {},
   "outputs": [
    {
     "name": "stdin",
     "output_type": "stream",
     "text": [
      "enter age: 67\n"
     ]
    },
    {
     "name": "stdout",
     "output_type": "stream",
     "text": [
      "<class 'int'>\n"
     ]
    }
   ],
   "source": [
    "age = int(input(\"enter age:\"))\n",
    "print(type(age))"
   ]
  },
  {
   "cell_type": "code",
   "execution_count": 5,
   "id": "a1a1b852-0dc5-4ff5-94c3-9de1dd80887d",
   "metadata": {},
   "outputs": [
    {
     "name": "stdin",
     "output_type": "stream",
     "text": [
      "enter numbers 1 2 3 4 5 6 67\n"
     ]
    },
    {
     "name": "stdout",
     "output_type": "stream",
     "text": [
      "['1', '2', '3', '4', '5', '6', '67']\n"
     ]
    }
   ],
   "source": [
    "#series of input in one command\n",
    "x = input(\"enter numbers\").split()\n",
    "print(x)"
   ]
  },
  {
   "cell_type": "code",
   "execution_count": 6,
   "id": "d224a7bf-b515-4aa9-87c7-ae9ed26895f4",
   "metadata": {},
   "outputs": [
    {
     "name": "stdin",
     "output_type": "stream",
     "text": [
      "enter numbers 2 4 6\n"
     ]
    },
    {
     "name": "stdout",
     "output_type": "stream",
     "text": [
      "2\n"
     ]
    }
   ],
   "source": [
    "#series of input in one command\n",
    "x,y,z = input(\"enter numbers\").split()\n",
    "print(x)"
   ]
  },
  {
   "cell_type": "code",
   "execution_count": 7,
   "id": "995647e4-cffa-4c0b-ae0c-623c7b332851",
   "metadata": {},
   "outputs": [
    {
     "name": "stdin",
     "output_type": "stream",
     "text": [
      "enter numbers 3 4 56 \n"
     ]
    },
    {
     "name": "stdout",
     "output_type": "stream",
     "text": [
      "Number is 3\n"
     ]
    }
   ],
   "source": [
    "x,y,z = input(\"enter numbers\").split()\n",
    "print(\"Number is\",x)"
   ]
  },
  {
   "cell_type": "code",
   "execution_count": 11,
   "id": "6ca3c325-6956-4a92-9c6a-9a012e0c0c72",
   "metadata": {},
   "outputs": [
    {
     "name": "stdout",
     "output_type": "stream",
     "text": [
      "1\n",
      "2\n",
      "3\n",
      "4\n",
      "5\n",
      "6\n",
      "7\n",
      "8\n",
      "9\n",
      "10\n",
      "11\n",
      "12\n",
      "13\n",
      "14\n",
      "15\n",
      "16\n",
      "17\n",
      "18\n",
      "19\n",
      "20\n"
     ]
    }
   ],
   "source": [
    "for i in range(1,21):\n",
    "    print(i,end=\"\\n\")"
   ]
  },
  {
   "cell_type": "code",
   "execution_count": 12,
   "id": "e0c4790e-2b61-4938-a2dc-e3d157422836",
   "metadata": {},
   "outputs": [
    {
     "name": "stdout",
     "output_type": "stream",
     "text": [
      "1.2.3.4.5.6.7.8.9.10.11.12.13.14.15.16.17.18.19.20."
     ]
    }
   ],
   "source": [
    "for i in range(1,21):\n",
    "    print(i,end=\".\")"
   ]
  },
  {
   "cell_type": "code",
   "execution_count": 15,
   "id": "47ccfb9f-0a9b-4da7-b981-cc5cfaf54458",
   "metadata": {},
   "outputs": [
    {
     "name": "stdin",
     "output_type": "stream",
     "text": [
      "enter numbers 3 5 6 \n"
     ]
    },
    {
     "name": "stdout",
     "output_type": "stream",
     "text": [
      "Number : 6 5 3\n"
     ]
    }
   ],
   "source": [
    "#format method\n",
    "#series of input in one command\n",
    "x,y,z = input(\"enter numbers\").split()\n",
    "print(\"Number : {} {} {}\".format(z,y,x))"
   ]
  },
  {
   "cell_type": "code",
   "execution_count": 16,
   "id": "afa2db02-3e9d-4c04-872e-daa863ca1698",
   "metadata": {},
   "outputs": [
    {
     "name": "stdout",
     "output_type": "stream",
     "text": [
      "I know 'SQL'\n"
     ]
    }
   ],
   "source": [
    "#highlighting the sql\n",
    "print(\"I know 'SQL'\")"
   ]
  },
  {
   "cell_type": "code",
   "execution_count": 17,
   "id": "a63b6f9a-50bc-4e2b-a872-c5e97584d835",
   "metadata": {},
   "outputs": [
    {
     "name": "stdout",
     "output_type": "stream",
     "text": [
      "I know \"SQL\"\n"
     ]
    }
   ],
   "source": [
    "#highlighting the sql\n",
    "print('I know \"SQL\"')"
   ]
  },
  {
   "cell_type": "code",
   "execution_count": 19,
   "id": "9a330b20-0176-46bc-81d1-3a520972a027",
   "metadata": {},
   "outputs": [
    {
     "name": "stdout",
     "output_type": "stream",
     "text": [
      "[1, 46, 3, 4, 5, 6, 7, 8]\n"
     ]
    }
   ],
   "source": [
    "#inbuilt functions in python\n",
    "lis = [1,2,3,4,5,6,7,8]\n",
    "lis[1] = 46\n",
    "print(lis)"
   ]
  },
  {
   "cell_type": "code",
   "execution_count": 20,
   "id": "22daf2da-faec-4b6b-8847-09322122e1d2",
   "metadata": {},
   "outputs": [
    {
     "name": "stdout",
     "output_type": "stream",
     "text": [
      "[1, 46, 3, 4, 5, 6, 7, 8, 100]\n"
     ]
    }
   ],
   "source": [
    "lis.append(100)\n",
    "print(lis)"
   ]
  },
  {
   "cell_type": "code",
   "execution_count": 21,
   "id": "e8c832e8-35bc-47aa-8f05-4b28fbc55b24",
   "metadata": {},
   "outputs": [
    {
     "data": {
      "text/plain": [
       "[1, 46, 3, 4, 5, 6, 7, 8, 100, 1, 3, 5, 6]"
      ]
     },
     "execution_count": 21,
     "metadata": {},
     "output_type": "execute_result"
    }
   ],
   "source": [
    "lis.extend([1,3,5,6])\n",
    "lis\n"
   ]
  },
  {
   "cell_type": "code",
   "execution_count": 23,
   "id": "b7d60111-3ca1-4d74-9c33-d85f8c328f09",
   "metadata": {},
   "outputs": [
    {
     "data": {
      "text/plain": [
       "[1, 46, 3, 25, 25, 4, 5, 6, 7, 8, 100, 1, 3, 5, 6]"
      ]
     },
     "execution_count": 23,
     "metadata": {},
     "output_type": "execute_result"
    }
   ],
   "source": [
    "lis.insert(3,25)\n",
    "lis"
   ]
  },
  {
   "cell_type": "code",
   "execution_count": 28,
   "id": "118b1c0b-87e5-4a23-a506-1e5977d84ee8",
   "metadata": {},
   "outputs": [
    {
     "name": "stdout",
     "output_type": "stream",
     "text": [
      "[1, 46, 25, 25, 4, 5, 6, 7, 8, 100, 1, 3, 5, 6]\n"
     ]
    }
   ],
   "source": [
    "lis=[1, 46, 3, 25, 25, 4, 5, 6, 7, 8, 100, 1, 3, 5, 6]\n",
    "lis.remove(3)\n",
    "print(lis)\n",
    "#first occurence removed"
   ]
  },
  {
   "cell_type": "code",
   "execution_count": 30,
   "id": "c003ec97-78ad-4d48-b96e-f988bf9a4f84",
   "metadata": {},
   "outputs": [
    {
     "data": {
      "text/plain": [
       "[1, 1, 3, 4, 5, 5, 6, 6, 7, 8, 25, 25, 46, 100]"
      ]
     },
     "execution_count": 30,
     "metadata": {},
     "output_type": "execute_result"
    }
   ],
   "source": [
    "p=sorted(lis)\n",
    "p"
   ]
  },
  {
   "cell_type": "code",
   "execution_count": 33,
   "id": "abfe8eda-39fa-4b53-9588-b33534388334",
   "metadata": {},
   "outputs": [
    {
     "data": {
      "text/plain": [
       "[1, 1, 3, 4, 5, 5, 6, 6, 7, 8, 25, 25, 46, 100]"
      ]
     },
     "execution_count": 33,
     "metadata": {},
     "output_type": "execute_result"
    }
   ],
   "source": [
    "p=sorted(lis)\n",
    "p"
   ]
  },
  {
   "cell_type": "code",
   "execution_count": 35,
   "id": "ecb4fa3c-059b-4edf-a904-0a3f933c3a4d",
   "metadata": {},
   "outputs": [
    {
     "data": {
      "text/plain": [
       "[1, 1, 3, 4, 5, 5, 6, 6, 7, 8, 25, 25, 46, 100]"
      ]
     },
     "execution_count": 35,
     "metadata": {},
     "output_type": "execute_result"
    }
   ],
   "source": [
    "p.reverse()\n",
    "p\n",
    "#reverse is void which prints in reverse order"
   ]
  },
  {
   "cell_type": "code",
   "execution_count": 36,
   "id": "3e069665-9144-423f-af49-c39aaa4ede83",
   "metadata": {},
   "outputs": [],
   "source": [
    "#clear and remove and pop "
   ]
  },
  {
   "cell_type": "code",
   "execution_count": 38,
   "id": "a79d2162-80da-4287-94f4-e74a622c9ce3",
   "metadata": {},
   "outputs": [
    {
     "data": {
      "text/plain": [
       "{1, 3, 5, 6, 8}"
      ]
     },
     "execution_count": 38,
     "metadata": {},
     "output_type": "execute_result"
    }
   ],
   "source": [
    "#set \n",
    "s ={1,3,5,6,8}\n",
    "s.add(5) #not added due to duplication\n",
    "s"
   ]
  },
  {
   "cell_type": "code",
   "execution_count": 39,
   "id": "340c14d4-085d-4a7e-b1bb-a117c1269d33",
   "metadata": {},
   "outputs": [
    {
     "data": {
      "text/plain": [
       "{1, 3, 6, 8}"
      ]
     },
     "execution_count": 39,
     "metadata": {},
     "output_type": "execute_result"
    }
   ],
   "source": [
    "s.remove(5)\n",
    "s #ex venn diagrams in maths"
   ]
  },
  {
   "cell_type": "code",
   "execution_count": 40,
   "id": "c942de10-485d-49cd-bea7-ec9b1135a4a1",
   "metadata": {},
   "outputs": [],
   "source": [
    "#union,intersection,superset,subset,clear"
   ]
  },
  {
   "cell_type": "markdown",
   "id": "dd270d41-fd2e-4c38-870e-039817f11b0e",
   "metadata": {},
   "source": [
    "## dictionaries"
   ]
  },
  {
   "cell_type": "code",
   "execution_count": 42,
   "id": "4415c034-e06f-4370-a48a-b2c816986e7d",
   "metadata": {},
   "outputs": [
    {
     "name": "stdout",
     "output_type": "stream",
     "text": [
      "john\n",
      "28\n",
      "chennai\n",
      "dict_keys(['name', 'age', 'city'])\n"
     ]
    }
   ],
   "source": [
    "di= {\"name\" :\"john\", \"age\" : 28, \"city\" : \"chennai\"}\n",
    "for i in di.keys():\n",
    "    print(di[i])\n",
    "print(di.keys())"
   ]
  },
  {
   "cell_type": "code",
   "execution_count": 45,
   "id": "6d721420-e519-4f87-aa46-a24aa847b979",
   "metadata": {},
   "outputs": [
    {
     "name": "stdout",
     "output_type": "stream",
     "text": [
      "name john\n",
      "age 28\n",
      "city chennai\n"
     ]
    }
   ],
   "source": [
    "di= {\"name\" :\"john\", \"age\" : 28, \"city\" : \"chennai\"}\n",
    "for x,y in di.items():\n",
    "    print(x,y)"
   ]
  },
  {
   "cell_type": "code",
   "execution_count": 47,
   "id": "9e1f6bb8-be45-4356-be61-4da4dd7dc86e",
   "metadata": {},
   "outputs": [
    {
     "name": "stdout",
     "output_type": "stream",
     "text": [
      "{'name': 'john', 'age': 28}\n"
     ]
    }
   ],
   "source": [
    "di= {\"name\" :\"john\", \"age\" : 28, \"city\" : \"chennai\"}\n",
    "di.popitem()\n",
    "print(di)"
   ]
  },
  {
   "cell_type": "code",
   "execution_count": 48,
   "id": "f8930873-f000-411a-93cf-a59943477101",
   "metadata": {},
   "outputs": [
    {
     "name": "stdout",
     "output_type": "stream",
     "text": [
      "john\n",
      "28\n",
      "chennai\n"
     ]
    }
   ],
   "source": [
    "di= {\"name\" :\"john\", \"age\" : 28, \"city\" : \"chennai\"}\n",
    "for i in di.values():\n",
    "    print(i)"
   ]
  },
  {
   "cell_type": "markdown",
   "id": "eec11bed-35ef-4210-baf1-873f8ce1bb16",
   "metadata": {},
   "source": [
    "## )Write a program that takes a sentence and returns a dictionary with word counts."
   ]
  },
  {
   "cell_type": "code",
   "execution_count": 75,
   "id": "9518a82f-88cb-4cf2-94cd-97ec2879489b",
   "metadata": {},
   "outputs": [
    {
     "name": "stdout",
     "output_type": "stream",
     "text": [
      "{'python': 1, 'has': 1, 'so': 2, 'many': 2, 'words': 1}\n"
     ]
    }
   ],
   "source": [
    "s=\"Python has so many so many words\"\n",
    "words=s.split()\n",
    "p={}\n",
    "for i in words:\n",
    "        i=i.lower()\n",
    "        p[i]=p.get(i,0)+1\n",
    "print(p)"
   ]
  },
  {
   "cell_type": "code",
   "execution_count": 123,
   "id": "769a1d26-fed7-4948-b9c8-48b648deb457",
   "metadata": {},
   "outputs": [
    {
     "name": "stdin",
     "output_type": "stream",
     "text": [
      "enter Hello world hello\n"
     ]
    },
    {
     "name": "stdout",
     "output_type": "stream",
     "text": [
      "{'hello': 2, 'world': 1}\n"
     ]
    }
   ],
   "source": [
    "s=input(\"enter:\").lower()\n",
    "count={}\n",
    "words = s.split()\n",
    "for i in words:\n",
    "    if i in count:\n",
    "        count[i]+=1\n",
    "    else:\n",
    "        count[i] = 1\n",
    "print(count)"
   ]
  },
  {
   "cell_type": "markdown",
   "id": "9877fe5e-d1c8-45a5-9467-d3ad90b70cda",
   "metadata": {},
   "source": []
  },
  {
   "cell_type": "markdown",
   "id": "ab56191b-37c7-41ad-95a7-40ea2ef0d3c2",
   "metadata": {},
   "source": [
    "## )Write a program that takes a list of numbers from terminal and returns the second largest number"
   ]
  },
  {
   "cell_type": "code",
   "execution_count": 87,
   "id": "d9f20686-6809-453a-b845-29fc8c5f52df",
   "metadata": {},
   "outputs": [
    {
     "name": "stdin",
     "output_type": "stream",
     "text": [
      " 10,20,20,30,40\n"
     ]
    },
    {
     "name": "stdout",
     "output_type": "stream",
     "text": [
      "30\n"
     ]
    }
   ],
   "source": [
    "#series of input in one command\n",
    "x=list(map(int,input().split(\",\")))\n",
    "uniq=list(set(x))\n",
    "if len(uniq) <2:\n",
    "    print(None)\n",
    "else:\n",
    "    uniq.sort(reverse = True)\n",
    "    print(uniq[1])"
   ]
  },
  {
   "cell_type": "code",
   "execution_count": null,
   "id": "a427c37c-ffe7-4d01-a5cb-6962aa3c241e",
   "metadata": {},
   "outputs": [],
   "source": [
    "#series of input in one command\n",
    "def second_largest(x):\n",
    "    \n",
    "#x=list(map(int,input().split(\",\")))\n",
    "    uniq=list(set(x))\n",
    "    if len(uniq) <2:\n",
    "        print(None)\n",
    "    else:\n",
    "        uniq.sort(reverse = True)\n",
    "        print(uniq[1])\n",
    "print"
   ]
  },
  {
   "cell_type": "code",
   "execution_count": 88,
   "id": "e0c69132-c097-4e8d-8aca-1f0aa7210e28",
   "metadata": {},
   "outputs": [
    {
     "name": "stdin",
     "output_type": "stream",
     "text": [
      " 100\n"
     ]
    },
    {
     "name": "stdout",
     "output_type": "stream",
     "text": [
      "None\n"
     ]
    }
   ],
   "source": [
    "#series of input in one command\n",
    "x=list(map(int,input().split(\",\")))\n",
    "uniq=list(set(x))\n",
    "if len(uniq) <2:\n",
    "    print(None)\n",
    "else:\n",
    "    uniq.sort(reverse = True)\n",
    "    print(uniq[1])"
   ]
  },
  {
   "cell_type": "code",
   "execution_count": 94,
   "id": "4f8ad1ea-ad10-4e5f-a193-54318003d19b",
   "metadata": {},
   "outputs": [
    {
     "name": "stdin",
     "output_type": "stream",
     "text": [
      " 5,5,5,5\n"
     ]
    },
    {
     "name": "stdout",
     "output_type": "stream",
     "text": [
      "None\n"
     ]
    }
   ],
   "source": [
    "#series of input in one command\n",
    "x=list(map(int,input().split(\",\")))\n",
    "uniq=list(set(x))\n",
    "if len(uniq) <2:\n",
    "    print(None)\n",
    "else:\n",
    "    uniq.sort(reverse = True)\n",
    "    print(uniq[1])"
   ]
  },
  {
   "cell_type": "code",
   "execution_count": 95,
   "id": "88eff4be-61cf-4abb-b2c7-2ce3e6712c9c",
   "metadata": {},
   "outputs": [
    {
     "name": "stdin",
     "output_type": "stream",
     "text": [
      " 1,2,3,4,5\n"
     ]
    },
    {
     "name": "stdout",
     "output_type": "stream",
     "text": [
      "4\n"
     ]
    }
   ],
   "source": [
    "#series of input in one command\n",
    "x=list(map(int,input().split(\",\")))\n",
    "uniq=list(set(x))\n",
    "if len(uniq) <2:\n",
    "    print(None)\n",
    "else:\n",
    "    uniq.sort(reverse = True)\n",
    "    print(uniq[1])"
   ]
  },
  {
   "cell_type": "markdown",
   "id": "20190ec9-95f4-4c41-8a00-cbb7cfbba3dc",
   "metadata": {},
   "source": [
    "## )Write a function that merges two dictionaries. If a key exists in both, sum the values."
   ]
  },
  {
   "cell_type": "code",
   "execution_count": 105,
   "id": "5afb65a5-aa78-4ca0-9da3-53078a1b0761",
   "metadata": {},
   "outputs": [
    {
     "name": "stdout",
     "output_type": "stream",
     "text": [
      "{'a': 10, 'b': 25, 'c': 25}\n"
     ]
    }
   ],
   "source": [
    "d0={'a':10,'b':20}\n",
    "d9={'b':5,'c':25}\n",
    "for key,value in d9.items():\n",
    "    d0[key] = d0.get(key,0)+value\n",
    "print(merge)"
   ]
  },
  {
   "cell_type": "code",
   "execution_count": 119,
   "id": "a3ae16d1-4ceb-4e48-aa0c-e003b14bc6d7",
   "metadata": {},
   "outputs": [
    {
     "name": "stdout",
     "output_type": "stream",
     "text": [
      "{'x': 1, 'y': 5, 'z': 4}\n"
     ]
    }
   ],
   "source": [
    "d1={'x': 1, 'y': 2}\n",
    "d2={'y': 3, 'z': 4}\n",
    "merge= d1.copy()\n",
    "for key,value in d2.items():\n",
    "    merge[key] =  merge.get(key,0)+value\n",
    "print(merge)"
   ]
  },
  {
   "cell_type": "markdown",
   "id": "b5b6d8f4-47bc-4647-a16b-25e31a9ad4b8",
   "metadata": {},
   "source": [
    "## Matrix Transpose"
   ]
  },
  {
   "cell_type": "code",
   "execution_count": 4,
   "id": "1328f845-c7bb-449f-ae75-eda9eaa7b804",
   "metadata": {},
   "outputs": [
    {
     "name": "stdout",
     "output_type": "stream",
     "text": [
      "[[1, 4, 7, 0], [2, 5, 8, 1], [3, 6, 9, 2]]\n"
     ]
    }
   ],
   "source": [
    "li=[[1,2,3],[4,5,6],[7,8,9],[0,1,2]]  #4 x 3 === 3 x4\n",
    "tr=[]\n",
    "for i in range(0,len(li[0])): #3 \n",
    "    temp =[]\n",
    "    for j in range(0,len(li)): #4 \n",
    "        temp.append(li[j][i])\n",
    "    tr.append(temp)\n",
    "print(tr)"
   ]
  },
  {
   "cell_type": "code",
   "execution_count": 7,
   "id": "9f7ab0a6-7bab-4d7f-86d9-31ddffcd9fb0",
   "metadata": {},
   "outputs": [
    {
     "name": "stdout",
     "output_type": "stream",
     "text": [
      "[[1, 4, 7, 0], [2, 5, 8, 1], [3, 6, 9, 2]]\n"
     ]
    }
   ],
   "source": [
    "li=[[1,2,3],[4,5,6],[7,8,9],[0,1,2]]  #4 x 3 === 3 x4\n",
    "tr = []  # Initialize an empty list for the transposed matrix\n",
    "\n",
    "for i in range(0, len(li[0])):  # Loop over columns (len(li[0]) = 3)\n",
    "    temp = []  # Temporary list for the new row in transposed matrix\n",
    "    \n",
    "    for j in range(0, len(li)):  # Loop over rows (len(li) = 4)\n",
    "        temp.append(li[j][i])  # Append element from column i, row j\n",
    "    \n",
    "    tr.append(temp)  # Add the new row to the transposed matrix\n",
    "print(tr)"
   ]
  },
  {
   "cell_type": "markdown",
   "id": "a8ecdd97-29f8-44d2-969c-271391da81df",
   "metadata": {},
   "source": [
    "# Matrix multiplication # bx4  * 4xa = b*a"
   ]
  },
  {
   "cell_type": "code",
   "execution_count": 10,
   "id": "f7200005-e929-483e-9cc2-1e5c00c8aa0f",
   "metadata": {},
   "outputs": [
    {
     "name": "stdout",
     "output_type": "stream",
     "text": [
      "[[1, 7, 22], [8, 28, 64]]\n"
     ]
    }
   ],
   "source": [
    "li1=[[1,2,3],[4,5,6]] #2x3\n",
    "li2=[ [1,2] ,[3,4] ,[5,6]] #3x2\n",
    "pr=[]\n",
    "for i in range(0,len(li1)):\n",
    "    temp=[]\n",
    "    e=0\n",
    "    for j in range(0,len(li2)):\n",
    "        e+=li[i][j]*li2[j][i]\n",
    "        temp.append(e)\n",
    "    pr.append(temp)\n",
    "print(pr)"
   ]
  },
  {
   "cell_type": "code",
   "execution_count": 12,
   "id": "dd754f1b-2798-4d8a-b033-b0e1a7c3dc60",
   "metadata": {},
   "outputs": [
    {
     "name": "stdout",
     "output_type": "stream",
     "text": [
      "[22, 28]\n",
      "[49, 64]\n",
      "[0, 0]\n",
      "[0, 0]\n"
     ]
    }
   ],
   "source": [
    "li1=[[1,2,3],[4,5,6]] #2x3\n",
    "li2=[ [1,2] ,[3,4] ,[5,6]] #3x2\n",
    "result=[]\n",
    "for i in range(len(li)):\n",
    "    r=[]\n",
    "    for j in range(len(li2[0])):\n",
    "        r.append(0)\n",
    "    result.append(r)\n",
    "for i in range(len(li1)):  #2 rows\n",
    "    for j in range(len(li2[0])):  # (2 columns)\n",
    "        for k in range(len(li2)):  # common (3 elements)\n",
    "            result[i][j] += li1[i][k] * li2[k][j] \n",
    "for row in result:\n",
    "    print(row)"
   ]
  },
  {
   "cell_type": "code",
   "execution_count": 13,
   "id": "3debf8ce-4e39-4e9b-9747-36c778616c48",
   "metadata": {},
   "outputs": [
    {
     "name": "stdout",
     "output_type": "stream",
     "text": [
      "[22, 28]\n",
      "[49, 64]\n"
     ]
    }
   ],
   "source": [
    "li1=[[1,2,3],[4,5,6]] #2x3\n",
    "li2=[ [1,2] ,[3,4] ,[5,6]] #3x2\n",
    "result=[[0,0],[0,0]]\n",
    "for i in range(len(li1)):  #2 rows\n",
    "    for j in range(len(li2[0])):  # (2 columns)\n",
    "        for k in range(len(li2)):  # common (3 elements)\n",
    "            result[i][j] += li1[i][k] * li2[k][j] \n",
    "for row in result:\n",
    "    print(row)"
   ]
  },
  {
   "cell_type": "markdown",
   "id": "e9e10b36-4556-4f93-94d9-17676483de4b",
   "metadata": {},
   "source": [
    "## M×N matrix, compute the sum of all border elements (first row, last row, first column, last column)."
   ]
  },
  {
   "cell_type": "code",
   "execution_count": 25,
   "id": "2edc7c9d-524e-4e19-b3f7-e8e16706301c",
   "metadata": {},
   "outputs": [
    {
     "name": "stdout",
     "output_type": "stream",
     "text": [
      "102\n"
     ]
    }
   ],
   "source": [
    "matrix = [\n",
    "    [1, 2, 3, 4],\n",
    "    [5, 6, 7, 8],\n",
    "    [9, 10, 11, 12],\n",
    "    [13, 14, 15, 16]\n",
    "]\n",
    "sums=0\n",
    "for i in range(0,len(matrix)): #4 rows 0,1,2,3 == 0 ,1\n",
    "    for j in range(0,len(matrix[0])): 4 ,cols 0,1,2,3 ==0,1,2,3,0,1,2,3\n",
    "        if i==0 or j==0 or (i==len(matrix)-1) or (j ==len(matrix)-1):\n",
    "            sums+=matrix[i][j]\n",
    "print(sums)"
   ]
  },
  {
   "cell_type": "code",
   "execution_count": 27,
   "id": "30be0c22-a47a-430f-99cd-e604d1dcfa82",
   "metadata": {},
   "outputs": [
    {
     "name": "stdout",
     "output_type": "stream",
     "text": [
      "[1, 2, 3, 8, 6, 4, 8]\n"
     ]
    }
   ],
   "source": [
    "li=[\n",
    "    [1,2,3,4],\n",
    "    [5,6,7,8],\n",
    "    [3,4,5,6],\n",
    "    [1,2,3,4],\n",
    "    [5,6,7,8] #\n",
    "]\n",
    "res =[]\n",
    "top =0\n",
    "bottom = len(li)\n",
    "left =0\n",
    "right = len(li[0])\n",
    "\n",
    "for i in range(left,right):\n",
    "    res.append(li[top][i])\n",
    "top+=1\n",
    "\n",
    "for j in range(top,bottom):\n",
    "    res.append(li[j][right])\n",
    "right -=1 #765\n",
    "\n",
    "for k in range(right,left):\n",
    "    res.append(li[bottom][k])\n",
    "bottom -=1 #135\n",
    "\n",
    "for l in range(bottom,top):\n",
    "    res.append([l][left])\n",
    "\n",
    "print(res)"
   ]
  },
  {
   "cell_type": "code",
   "execution_count": 28,
   "id": "4bc8205a-05fc-4dba-bd93-9a6bf5a403b4",
   "metadata": {},
   "outputs": [
    {
     "name": "stdout",
     "output_type": "stream",
     "text": [
      "[1, 2, 3, 4, 8, 6, 4, 8, 7, 6, 5, 1, 3, 5, 6, 7, 5, 3, 2, 4]\n"
     ]
    }
   ],
   "source": [
    "li = [\n",
    "    [1, 2, 3, 4],\n",
    "    [5, 6, 7, 8],\n",
    "    [3, 4, 5, 6],\n",
    "    [1, 2, 3, 4],\n",
    "    [5, 6, 7, 8]\n",
    "]\n",
    "\n",
    "res = []\n",
    "top = 0\n",
    "bottom = len(li) - 1\n",
    "left = 0\n",
    "right = len(li[0]) - 1\n",
    "\n",
    "while top <= bottom and left <= right:\n",
    "    # Traverse from left to right\n",
    "    for i in range(left, right + 1):\n",
    "        res.append(li[top][i])\n",
    "    top += 1  # Move the top boundary down\n",
    "\n",
    "    # Traverse from top to bottom\n",
    "    for j in range(top, bottom + 1):\n",
    "        res.append(li[j][right])\n",
    "    right -= 1  # Move the right boundary left\n",
    "\n",
    "    # Traverse from right to left (only if there are remaining rows)\n",
    "    if top <= bottom:\n",
    "        for k in range(right, left - 1, -1):\n",
    "            res.append(li[bottom][k])\n",
    "        bottom -= 1  # Move the bottom boundary up\n",
    "\n",
    "    # Traverse from bottom to top (only if there are remaining columns)\n",
    "    if left <= right:\n",
    "        for l in range(bottom, top - 1, -1):\n",
    "            res.append(li[l][left])\n",
    "        left += 1  # Move the left boundary right\n",
    "\n",
    "print(res)\n"
   ]
  },
  {
   "cell_type": "code",
   "execution_count": null,
   "id": "de2061b3-4ba8-4e9a-9992-d8bae5a4f5b7",
   "metadata": {},
   "outputs": [],
   "source": []
  }
 ],
 "metadata": {
  "kernelspec": {
   "display_name": "Python 3 (ipykernel)",
   "language": "python",
   "name": "python3"
  },
  "language_info": {
   "codemirror_mode": {
    "name": "ipython",
    "version": 3
   },
   "file_extension": ".py",
   "mimetype": "text/x-python",
   "name": "python",
   "nbconvert_exporter": "python",
   "pygments_lexer": "ipython3",
   "version": "3.12.7"
  }
 },
 "nbformat": 4,
 "nbformat_minor": 5
}
