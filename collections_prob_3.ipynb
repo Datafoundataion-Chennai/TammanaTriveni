{
 "cells": [
  {
   "cell_type": "markdown",
   "id": "7bd9a2db-6c60-4c27-a7a2-02ef45b43418",
   "metadata": {},
   "source": [
    "## 1. Prison Canteen Supply Tracker (OrderedDict, Counter)\n",
    "🚔 Theme: Managing a Prison Canteen\n",
    "Problem:\n",
    "You are in charge of tracking food supplies in a prison canteen. Prisoners purchase items,\n",
    "and you need to maintain the total quantity sold for each item in the order they were first\n",
    "requested.\n",
    "Write a function that takes a list of tuples where each tuple contains a food item and\n",
    "quantity bought. The function should return an OrderedDict with total quantities per item\n",
    "in order of their first purchase.\n",
    "\n",
    "Example Input:\n",
    "requests = [\n",
    " (\"bread\", 5),\n",
    " (\"milk\", 2),\n",
    " (\"bread\", 3),\n",
    " (\"cigarettes\", 4),\n",
    " (\"milk\", 1)\n",
    "]\n",
    "Expected Output:\n",
    "OrderedDict([\n",
    " ('bread', 8),\n",
    " ('milk', 3),\n",
    " ('cigarettes', 4)\n",
    "])\n",
    "🚔 Hint: Use OrderedDict and Counter to track purchases"
   ]
  },
  {
   "cell_type": "code",
   "execution_count": 59,
   "id": "ee9c288b-e6f5-49ef-bca9-3498c6e49950",
   "metadata": {},
   "outputs": [
    {
     "name": "stdout",
     "output_type": "stream",
     "text": [
      "OrderedDict({'bread': 8, 'milk': 3, 'cigarettes': 4})\n"
     ]
    }
   ],
   "source": [
    "from collections import OrderedDict\n",
    "requests = [\n",
    "    (\"bread\", 5),\n",
    "    (\"milk\", 2),\n",
    "    (\"bread\", 3),\n",
    "    (\"cigarettes\", 4),\n",
    "    (\"milk\", 1)\n",
    "]\n",
    "od=OrderedDict()\n",
    "for i,j in requests:\n",
    "    if i in od:\n",
    "        od[i]+=j\n",
    "    else:\n",
    "        od[i]=j\n",
    "print(od)"
   ]
  },
  {
   "cell_type": "markdown",
   "id": "d6cc60cb-a1d8-4469-9847-5d3ca8bf3c6c",
   "metadata": {},
   "source": [
    "## 2. Battlefield Communications Decoder (defaultdict, deque)\n",
    "🚔 Theme: Warzone Battlefield Encryption\n",
    "Problem:\n",
    "A military unit is intercepting encrypted enemy messages. Each word in the messages is an\n",
    "anagram of an actual codeword. You have a dictionary of known codewords, and you need\n",
    "to decode the intercepted words.\n",
    "Write a function that takes a list of known codewords and a list of intercepted messages.\n",
    "Return the correct words. If no match is found, return \"UNKNOWN\".\n",
    "Example input:\n",
    "codewords = [\"attack\", \"retreat\", \"sniper\", \"danger\", \"tanks\", \"enemy\"]\n",
    "intercepted = [\"ckatta\", \"ratreet\", \"ksnat\", \"shadow\"]\n",
    "Expected Output:\n",
    "['attack', 'retreat', 'tanks', 'UNKNOWN']\n",
    "🚔 Hint: Use defaultdict(list) to map sorted characters of words\n"
   ]
  },
  {
   "cell_type": "code",
   "execution_count": 1,
   "id": "44f900b4-0201-428c-9256-213b31454183",
   "metadata": {},
   "outputs": [
    {
     "name": "stdout",
     "output_type": "stream",
     "text": [
      "['attack', 'retreat', 'tanks', 'UNKNOWN']\n"
     ]
    }
   ],
   "source": [
    "from collections import Counter\n",
    "from collections import defaultdict\n",
    "\n",
    "codewords = [\"attack\", \"retreat\", \"sniper\", \"danger\", \"tanks\", \"enemy\"]\n",
    "intercepted = [\"ckatta\", \"ratreet\", \"ksnat\", \"shadow\"]\n",
    "\n",
    "final = defaultdict(lambda: \"UNKNOWN\")\n",
    "\n",
    "\n",
    "for word in codewords:\n",
    "    sorted_word = \"\".join(sorted(word))\n",
    "    final[sorted_word] = word\n",
    "\n",
    "\n",
    "decoded_messages = []\n",
    "for word in intercepted:\n",
    "    sorted_word = \"\".join(sorted(word))\n",
    "    decoded_messages.append(final[sorted_word])\n",
    "\n",
    "\n",
    "# print(final)\n",
    "print(decoded_messages)"
   ]
  },
  {
   "cell_type": "markdown",
   "id": "d1fd5779-9ac9-49b0-b5c3-c98b0ba357e7",
   "metadata": {},
   "source": [
    "## 3. Interstellar Crew Management (namedtuple, deque)\n",
    "🚔 Theme: Managing an Interstellar Space Crew\n",
    "Problem:\n",
    "You are the captain of a spaceship on a deep-space mission. Your crew members each have\n",
    "a name, role, and experience level.\n",
    "1. Use namedtuple to store crew member details.\n",
    "2. Use deque to manage the roster efficiently.\n",
    "3. Implement functions to:\n",
    "– Add a new crew member\n",
    "– Remove the least experienced member\n",
    "– Display the current crew lineup\n",
    "Example Usage:\n",
    "add_crew(\"Commander Vega\", \"Pilot\", 9)\n",
    "add_crew(\"Dr. Nova\", \"Scientist\", 8)\n",
    "add_crew(\"Lt. Orion\", \"Engineer\", 7)\n",
    "remove_least_experienced()\n",
    "display_roster()\n",
    "Expected Output:\n",
    "Current Crew Roster:\n",
    "1. Commander Vega (Role: Pilot, Experience: 9)\n",
    "2. Dr. Nova (Role: Scientist, Experience: 8)\n",
    "🚔 Hint: Use namedtuple for structured crew data and deque for efficient roster changes."
   ]
  },
  {
   "cell_type": "code",
   "execution_count": 62,
   "id": "6ca1e923-89ff-4e14-9dd5-9553221120a1",
   "metadata": {},
   "outputs": [
    {
     "name": "stdout",
     "output_type": "stream",
     "text": [
      "Current Crew Roster\n",
      "1. Commander Vega (Role: Pilot, Experience: 9)\n",
      "2. Dr. Nova (Role: Scientist, Experience: 8)\n"
     ]
    }
   ],
   "source": [
    "from collections import namedtuple\n",
    "from collections import deque\n",
    "\n",
    "CrewMember=namedtuple(\"CrewMember\",[\"name\",\"role\",\"experience_level\"])\n",
    "roster=deque()\n",
    "\n",
    "def add_crew(name,role,experience_level):\n",
    "    roster.append(CrewMember(name,role,experience_level))\n",
    "\n",
    "def remove_least_experienced():\n",
    "    if roster:\n",
    "        least_exp=min(roster,key=lambda s:s.experience_level)\n",
    "        roster.remove(least_exp)\n",
    "    else:\n",
    "        print(\"no one should be removed\")\n",
    "\n",
    "\n",
    "def display_roster():\n",
    "    if roster:\n",
    "        print(\"Current Crew Roster\")\n",
    "        for i, member in enumerate(crew_roster, start=1):\n",
    "            print(f\"{i}. {member.name} (Role: {member.role}, Experience: {member.experience})\")\n",
    "    else:\n",
    "        print(\"The crew roster is empty.\")\n",
    "    \n",
    "\n",
    "add_crew(\"Commander Vega\", \"Pilot\", 9)\n",
    "add_crew(\"Dr. Nova\", \"Scientist\", 8)\n",
    "add_crew(\"Lt. Orion\", \"Engineer\", 7)\n",
    "\n",
    "\n",
    "remove_least_experienced()\n",
    "display_roster()"
   ]
  },
  {
   "cell_type": "code",
   "execution_count": null,
   "id": "54d366ca-a5ba-4ad2-af05-79905cee4d19",
   "metadata": {},
   "outputs": [],
   "source": []
  },
  {
   "cell_type": "code",
   "execution_count": null,
   "id": "f5ddb58c-21bf-4ecc-84ef-a1aba4e0f035",
   "metadata": {},
   "outputs": [],
   "source": []
  }
 ],
 "metadata": {
  "kernelspec": {
   "display_name": "Python 3 (ipykernel)",
   "language": "python",
   "name": "python3"
  },
  "language_info": {
   "codemirror_mode": {
    "name": "ipython",
    "version": 3
   },
   "file_extension": ".py",
   "mimetype": "text/x-python",
   "name": "python",
   "nbconvert_exporter": "python",
   "pygments_lexer": "ipython3",
   "version": "3.12.7"
  }
 },
 "nbformat": 4,
 "nbformat_minor": 5
}
