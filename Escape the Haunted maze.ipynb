{
 "cells": [
  {
   "cell_type": "code",
   "execution_count": 2,
   "id": "5338d64c-bb08-4ac9-924d-5d8446635b54",
   "metadata": {},
   "outputs": [
    {
     "name": "stdout",
     "output_type": "stream",
     "text": [
      "👻 Welcome to the Haunted Maze! Escape before the ghosts catch you! 👻\n",
      "# # # # # # # #\n",
      "# P . . # . E #\n",
      "# # # . # . # #\n",
      "# . G . . . . #\n",
      "# # # # # # # #\n",
      "\n",
      "\n"
     ]
    },
    {
     "name": "stdin",
     "output_type": "stream",
     "text": [
      "Move (W/A/S/D):  P\n"
     ]
    },
    {
     "name": "stdout",
     "output_type": "stream",
     "text": [
      "❌ Invalid move! Use W (up), A (left), S (down), D (right)\n"
     ]
    },
    {
     "name": "stdin",
     "output_type": "stream",
     "text": [
      "Move (W/A/S/D):  D\n"
     ]
    },
    {
     "name": "stdout",
     "output_type": "stream",
     "text": [
      "# # # # # # # #\n",
      "# . P . # . E #\n",
      "# # # . # . # #\n",
      "# . G . . . . #\n",
      "# # # # # # # #\n",
      "\n",
      "\n"
     ]
    },
    {
     "name": "stdin",
     "output_type": "stream",
     "text": [
      "Move (W/A/S/D):  D\n"
     ]
    },
    {
     "name": "stdout",
     "output_type": "stream",
     "text": [
      "# # # # # # # #\n",
      "# . . P # . E #\n",
      "# # # . # . # #\n",
      "# . . G . . . #\n",
      "# # # # # # # #\n",
      "\n",
      "\n"
     ]
    },
    {
     "name": "stdin",
     "output_type": "stream",
     "text": [
      "Move (W/A/S/D):  S\n"
     ]
    },
    {
     "name": "stdout",
     "output_type": "stream",
     "text": [
      "# # # # # # # #\n",
      "# . . . # . E #\n",
      "# # # P # . # #\n",
      "# . . G . . . #\n",
      "# # # # # # # #\n",
      "\n",
      "\n",
      "👻 The ghost caught you! Game Over! 👻\n"
     ]
    }
   ],
   "source": [
    "import time\n",
    "\n",
    "# Define the maze grid\n",
    "maze = [\n",
    "    [\"#\", \"#\", \"#\", \"#\", \"#\", \"#\", \"#\", \"#\"],\n",
    "    [\"#\", \"P\", \".\", \".\", \"#\", \".\", \"E\", \"#\"],\n",
    "    [\"#\", \"#\", \"#\", \".\", \"#\", \".\", \"#\", \"#\"],\n",
    "    [\"#\", \".\", \"G\", \".\", \".\", \".\", \".\", \"#\"],\n",
    "    [\"#\", \"#\", \"#\", \"#\", \"#\", \"#\", \"#\", \"#\"]\n",
    "]\n",
    "\n",
    "# Function to display the maze\n",
    "def print_maze():\n",
    "    for row in maze:\n",
    "        print(\" \".join(row))\n",
    "    print(\"\\n\")\n",
    "\n",
    "# Function to find the position of an element (P, G, E)\n",
    "def find_position(symbol):\n",
    "    for i in range(len(maze)):\n",
    "        for j in range(len(maze[i])):\n",
    "            if maze[i][j] == symbol:\n",
    "                return (i, j)\n",
    "    return None  # Return None if the symbol is not found\n",
    "\n",
    "# Function to move the player\n",
    "def move_player(direction):\n",
    "    global maze\n",
    "    pos = find_position(\"P\")\n",
    "    if not pos:  # If player is not found, return False\n",
    "        return False\n",
    "\n",
    "    px, py = pos  # Get player's current position\n",
    "\n",
    "    # Calculate new position based on input\n",
    "    new_x, new_y = px, py\n",
    "    if direction == \"W\": new_x -= 1  # Up\n",
    "    elif direction == \"S\": new_x += 1  # Down\n",
    "    elif direction == \"A\": new_y -= 1  # Left\n",
    "    elif direction == \"D\": new_y += 1  # Right\n",
    "\n",
    "    \n",
    "    if maze[new_x][new_y] == \"#\": #when enters into wall do ntg\n",
    "        return False  \n",
    "\n",
    "\n",
    "    if maze[new_x][new_y] == \"E\": #exit condition\n",
    "        return True  \n",
    "\n",
    "    \n",
    "    if maze[new_x][new_y] == \"G\": #if player moves towards the ghost\n",
    "        return \"lost\"  # Player loses immediately\n",
    "\n",
    "    # Handling valid movement\n",
    "    maze[px][py] = \".\"  # Clear old player position\n",
    "    maze[new_x][new_y] = \"P\"  # Move player to new position\n",
    "    return False  # Continue game\n",
    "\n",
    "# Function to move the ghost towards the player\n",
    "def move_ghosts():\n",
    "    global maze\n",
    "    pos_p = find_position(\"P\")\n",
    "    pos_g = find_position(\"G\")\n",
    "\n",
    "    #if not pos_p or not pos_g:  # If player or ghost is not found, do nothing\n",
    "        #return\n",
    "\n",
    "    px, py = pos_p\n",
    "    gx, gy = pos_g\n",
    "\n",
    "    # Possible moves for ghost\n",
    "    possible_moves = []\n",
    "\n",
    "    # Check all 4 directions and prioritize moving towards the player\n",
    "    if gx > px and maze[gx - 1][gy] != \"#\":  # Move Up\n",
    "        possible_moves.append((gx - 1, gy))\n",
    "    if gx < px and maze[gx + 1][gy] != \"#\":  # Move Down\n",
    "        possible_moves.append((gx + 1, gy))\n",
    "    if gy > py and maze[gx][gy - 1] != \"#\":  # Move Left\n",
    "        possible_moves.append((gx, gy - 1))\n",
    "    if gy < py and maze[gx][gy + 1] != \"#\":  # Move Right\n",
    "        possible_moves.append((gx, gy + 1))\n",
    "\n",
    "    # Move ghost if a valid move exists\n",
    "    if possible_moves:\n",
    "        new_gx, new_gy = possible_moves[0]  # Choose first valid move\n",
    "\n",
    "        # Check if ghost moves into player\n",
    "        if maze[new_gx][new_gy] == \"P\":\n",
    "            return \"lost\"  # Player loses immediately\n",
    "\n",
    "        maze[gx][gy] = \".\"  # Clear old ghost position\n",
    "        maze[new_gx][new_gy] = \"G\"  # Move ghost to new position\n",
    "\n",
    "# Game loop\n",
    "def game_loop():\n",
    "    print(\"👻 Welcome to the Haunted Maze! Escape before the ghosts catch you! 👻\")\n",
    "    print_maze()\n",
    "\n",
    "    while True:\n",
    "        direction = input(\"Move (W/A/S/D): \").upper()\n",
    "        if direction not in [\"W\", \"A\", \"S\", \"D\"]:\n",
    "            print(\"❌ Invalid move! Use W (up), A (left), S (down), D (right)\")\n",
    "            continue\n",
    "\n",
    "        player_status = move_player(direction)\n",
    "        if player_status == True:  # Player wins\n",
    "            print_maze()\n",
    "            print(\"🎉 You escaped! You win! 🎉\")\n",
    "            break\n",
    "        elif player_status == \"lost\":  # Player moves into ghost\n",
    "            print_maze()\n",
    "            print(\"👻 You got caught by the ghost! Game Over! 👻\")\n",
    "            break\n",
    "\n",
    "        ghost_status = move_ghosts()\n",
    "        if ghost_status == \"lost\":  # Ghost reaches player\n",
    "            print_maze()\n",
    "            print(\"👻 The ghost caught you! Game Over! 👻\")\n",
    "            break\n",
    "\n",
    "        print_maze()  # Show updated maze\n",
    "\n",
    "game_loop()"
   ]
  },
  {
   "cell_type": "code",
   "execution_count": null,
   "id": "e3f6ee57-ecf5-495e-97b4-7b1ea2eafdd0",
   "metadata": {},
   "outputs": [],
   "source": []
  }
 ],
 "metadata": {
  "kernelspec": {
   "display_name": "Python 3 (ipykernel)",
   "language": "python",
   "name": "python3"
  },
  "language_info": {
   "codemirror_mode": {
    "name": "ipython",
    "version": 3
   },
   "file_extension": ".py",
   "mimetype": "text/x-python",
   "name": "python",
   "nbconvert_exporter": "python",
   "pygments_lexer": "ipython3",
   "version": "3.12.7"
  }
 },
 "nbformat": 4,
 "nbformat_minor": 5
}
